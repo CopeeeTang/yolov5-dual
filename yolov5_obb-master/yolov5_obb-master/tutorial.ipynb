{
  "cells": [
    {
      "cell_type": "markdown",
      "metadata": {
        "colab_type": "text",
        "id": "view-in-github"
      },
      "source": [
        "<a href=\"https://colab.research.google.com/github/ultralytics/yolov5/blob/master/tutorial.ipynb\" target=\"_parent\"><img src=\"https://colab.research.google.com/assets/colab-badge.svg\" alt=\"Open In Colab\"/></a>"
      ]
    },
    {
      "cell_type": "markdown",
      "metadata": {
        "id": "t6MPjfT5NrKQ"
      },
      "source": [
        "<a align=\"left\" href=\"https://ultralytics.com/yolov5\" target=\"_blank\">\n",
        "<img width=\"1024\", src=\"https://user-images.githubusercontent.com/26833433/125273437-35b3fc00-e30d-11eb-9079-46f313325424.png\"></a>\n",
        "\n",
        "This is the **official YOLOv5 🚀 notebook** by **Ultralytics**, and is freely available for redistribution under the [GPL-3.0 license](https://choosealicense.com/licenses/gpl-3.0/). \n",
        "For more information please visit https://github.com/ultralytics/yolov5 and https://ultralytics.com. Thank you!"
      ]
    },
    {
      "cell_type": "code",
      "execution_count": 1,
      "metadata": {},
      "outputs": [
        {
          "name": "stdout",
          "output_type": "stream",
          "text": [
            "{'a', 'c', 'b'}\n",
            "{1, 2, 3, 4, 5}\n",
            "{1, 2, 3, 4, 5}\n"
          ]
        }
      ],
      "source": [
        "set1=set('abcba');\n",
        "set2=set([1,2,3,4,5]);\n",
        "set3=set((1,2,3,4,5));\n",
        "print(set1);\n",
        "print(set2);\n",
        "print(set3);"
      ]
    },
    {
      "cell_type": "code",
      "execution_count": 11,
      "metadata": {},
      "outputs": [
        {
          "name": "stdout",
          "output_type": "stream",
          "text": [
            "5050\n",
            "5050\n",
            "(1,1)(2,1)(2,2)(3,1)(3,2)(3,3)(4,1)(4,2)(4,3)(4,4)(5,1)(5,2)(5,3)(5,4)(5,5)\n",
            "15\n",
            "55\n"
          ]
        }
      ],
      "source": [
        "def for_loop(n:int):\n",
        "    res=0\n",
        "    for i in range(1,n+1):\n",
        "        res+=i\n",
        "    return res\n",
        "print(for_loop(100))\n",
        "\n",
        "def while_loop(n:int):\n",
        "    res=0\n",
        "    i=1\n",
        "    while i<=n:\n",
        "        res+=i\n",
        "        i+=1\n",
        "    return res\n",
        "print(while_loop(100))\n",
        "\n",
        "def nested_loop(n:int):\n",
        "    res=\"\"\n",
        "    for i in range(1,n+1):\n",
        "        for j in range(1,i+1):\n",
        "            res+=f\"({i},{j})\"\n",
        "    return res\n",
        "print(nested_loop(5))\n",
        "\n",
        "def recur(n:int):\n",
        "    if n==1:\n",
        "        return 1\n",
        "    else:\n",
        "        return n+recur(n-1)\n",
        "print(recur(5))\n",
        "\n",
        "def fib(n:int):\n",
        "    if n==1 or n==2:\n",
        "        return 1\n",
        "    else:\n",
        "        return fib(n-1)+fib(n-2)\n",
        "print(fib(10))"
      ]
    },
    {
      "cell_type": "code",
      "execution_count": 17,
      "metadata": {},
      "outputs": [
        {
          "name": "stdout",
          "output_type": "stream",
          "text": [
            "[1, 2, 3, 4, 5, 5]\n"
          ]
        }
      ],
      "source": [
        "def algorithm(n: int):\n",
        "    a = 1 # +1\n",
        "    a = a + 1 # +1\n",
        "    a = a * 2 # +1\n",
        "    # 循环 n 次\n",
        "    for i in range(n): # +1\n",
        "        print(0) # +1\n",
        "\n",
        "def bubble_sortlist(list):\n",
        "    for i in range(len(list)-1,0,-1):\n",
        "        for j in range(i):\n",
        "            if list[j]>list[j+1]:\n",
        "                list[j],list[j+1]=list[j+1],list[j]\n",
        "    return list\n",
        "list=[5,4,3,2,5,1]\n",
        "print(bubble_sortlist(list))"
      ]
    },
    {
      "cell_type": "code",
      "execution_count": 20,
      "metadata": {},
      "outputs": [
        {
          "name": "stdout",
          "output_type": "stream",
          "text": [
            "[1, 2, 6, 3, 4, 5]\n",
            "[1, 2, 4, 5]\n",
            "[1, 2, 3, 4, 5, 6]\n",
            "[1, 2, 3, 4, 5, 6]\n",
            "[5, 4, 3, 2, 1]\n",
            "[1, 2, 3, 4, 5]\n"
          ]
        }
      ],
      "source": [
        "def insert(list,index,n):\n",
        "    list.insert(index,n)\n",
        "    return list\n",
        "list=[1,2,3,4,5]\n",
        "print(insert(list,2,6)) \n",
        "def remove(list,index):   \n",
        "    list.pop(index)\n",
        "    return list\n",
        "list=[1,2,3,4,5]\n",
        "print(remove(list,2))\n",
        "def append(list,n):\n",
        "    list.append(n)\n",
        "    return list\n",
        "list=[1,2,3,4,5]\n",
        "print(append(list,6))\n",
        "def extend(list1,list2):\n",
        "    list1.extend(list2)\n",
        "    return list1\n",
        "list1=[1,2,3]\n",
        "list2=[4,5,6]\n",
        "print(extend(list1,list2))\n",
        "def reverse(list):\n",
        "    list.reverse()\n",
        "    return list\n",
        "list=[1,2,3,4,5]\n",
        "print(reverse(list))\n",
        "def sort(list):\n",
        "    list.sort()\n",
        "    return list\n",
        "list=[1,2,3,4,5]\n",
        "print(sort(list))\n"
      ]
    },
    {
      "cell_type": "code",
      "execution_count": 25,
      "metadata": {},
      "outputs": [
        {
          "name": "stdout",
          "output_type": "stream",
          "text": [
            "enter\n",
            "hello\n",
            "exit\n"
          ]
        }
      ],
      "source": [
        "class Sample:\n",
        "    def __enter__(self):\n",
        "        print(\"enter\")\n",
        "        return \"hello\"\n",
        "    def __exit__(self, exc_type, exc_val, exc_tb):\n",
        "        print(\"exit\")\n",
        "        return \"world\"\n",
        "def get_sample():\n",
        "    return Sample()\n",
        "with get_sample() as sample:\n",
        "    print(sample)"
      ]
    },
    {
      "cell_type": "code",
      "execution_count": 4,
      "metadata": {},
      "outputs": [
        {
          "data": {
            "image/png": "[encoded data removed]",
            "text/plain": [
              "<Figure size 1000x600 with 1 Axes>"
            ]
          },
          "metadata": {},
          "output_type": "display_data"
        }
      ],
      "source": [
        "import matplotlib.pyplot as plt\n",
        "from matplotlib.patches import FancyBboxPatch\n",
        "\n",
        "# Helper function to draw arrows\n",
        "def draw_arrow(ax, start, end):\n",
        "    ax.annotate(\"\",\n",
        "                xy=end, xycoords='data',\n",
        "                xytext=start, textcoords='data',\n",
        "                arrowprops=dict(arrowstyle=\"->\", color=\"0.5\",\n",
        "                                shrinkA=5, shrinkB=5,\n",
        "                                patchA=None, patchB=None,\n",
        "                                connectionstyle=\"arc3,rad=0.3\",\n",
        "                                ),\n",
        "                )\n",
        "\n",
        "# Set up plot\n",
        "fig, ax = plt.subplots(figsize=(10, 6))\n",
        "plt.xlim(0, 10)\n",
        "plt.ylim(0, 6)\n",
        "ax.axis('off')\n",
        "\n",
        "# Add boxes for components\n",
        "sensors_box = FancyBboxPatch((1, 4.5), 2, 0.8, boxstyle=\"round,pad=0.1\", fc=\"lightblue\", ec=\"black\")\n",
        "controller_box = FancyBboxPatch((1, 2.5), 2, 0.8, boxstyle=\"round,pad=0.1\", fc=\"lightgreen\", ec=\"black\")\n",
        "lcd_box = FancyBboxPatch((1, 0.5), 2, 0.8, boxstyle=\"round,pad=0.1\", fc=\"lightcoral\", ec=\"black\")\n",
        "communication_box = FancyBboxPatch((6, 4.5), 2, 0.8, boxstyle=\"round,pad=0.1\", fc=\"wheat\", ec=\"black\")\n",
        "app_box = FancyBboxPatch((6, 2.5), 2, 0.8, boxstyle=\"round,pad=0.1\", fc=\"violet\", ec=\"black\")\n",
        "server_box = FancyBboxPatch((6, 0.5), 2, 0.8, boxstyle=\"round,pad=0.1\", fc=\"khaki\", ec=\"black\")\n",
        "\n",
        "# Add boxes to plot\n",
        "for box in [sensors_box, controller_box, lcd_box, communication_box, app_box, server_box]:\n",
        "    ax.add_patch(box)\n",
        "\n",
        "# Add text labels\n",
        "ax.text(2, 5, '超声波传感器', ha=\"center\", va=\"center\", fontsize=12, weight=\"bold\")\n",
        "ax.text(2, 3, '单片机控制器', ha=\"center\", va=\"center\", fontsize=12, weight=\"bold\")\n",
        "ax.text(2, 1, 'LCD显示屏', ha=\"center\", va=\"center\", fontsize=12, weight=\"bold\")\n",
        "ax.text(7, 5, '数据通信模块', ha=\"center\", va=\"center\", fontsize=12, weight=\"bold\")\n",
        "ax.text(7, 3, '移动应用', ha=\"center\", va=\"center\", fontsize=12, weight=\"bold\")\n",
        "ax.text(7, 1, '服务器', ha=\"center\", va=\"center\", fontsize=12, weight=\"bold\")\n",
        "\n",
        "# Draw arrows representing data flow\n",
        "draw_arrow(ax, (3, 5), (6, 5))  # Sensors to Communication\n",
        "draw_arrow(ax, (3, 3), (2, 4.5))  # Controller to Sensors\n",
        "draw_arrow(ax, (3, 3), (2, 1))  # Controller to LCD\n",
        "draw_arrow(ax, (6, 3), (3, 3))  # App to Controller\n",
        "draw_arrow(ax, (7, 4.5), (7, 3.5))  # Communication to App\n",
        "draw_arrow(ax, (7, 1.5), (7, 2.5))  # Server to App\n",
        "draw_arrow(ax, (3, 1), (6, 1))  # LCD to Server\n",
        "\n",
        "# Show the plot\n",
        "plt.show()\n",
        "\n"
      ]
    },
    {
      "cell_type": "markdown",
      "metadata": {
        "id": "7mGmQbAO5pQb"
      },
      "source": [
        "# Setup\n",
        "\n",
        "Clone repo, install dependencies and check PyTorch and GPU."
      ]
    },
    {
      "cell_type": "code",
      "execution_count": 1,
      "metadata": {},
      "outputs": [
        {
          "ename": "",
          "evalue": "",
          "output_type": "error",
          "traceback": [
            "\u001b[1;31m在当前单元格或上一个单元格中执行代码时 Kernel 崩溃。请查看单元格中的代码，以确定故障的可能原因。有关详细信息，请单击 <a href='https://aka.ms/vscodeJupyterKernelCrash'>此处</a>。有关更多详细信息，请查看 Jupyter <a href='command:jupyter.viewOutput'>log</a>。"
          ]
        }
      ],
      "source": [
        "import torch\n",
        "import torch.utils\n",
        "import torch.utils.cpp_extension\n",
        "torch.utils.cpp_extension.CUDA_HOME        #输出 Pytorch 运行时使用的 cuda \n"
      ]
    },
    {
      "cell_type": "code",
      "execution_count": 5,
      "metadata": {},
      "outputs": [
        {
          "ename": "",
          "evalue": "",
          "output_type": "error",
          "traceback": [
            "\u001b[1;31m在当前单元格或上一个单元格中执行代码时 Kernel 崩溃。请查看单元格中的代码，以确定故障的可能原因。有关详细信息，请单击 <a href='https://aka.ms/vscodeJupyterKernelCrash'>此处</a>。有关更多详细信息，请查看 Jupyter <a href='command:jupyter.viewOutput'>log</a>。"
          ]
        }
      ],
      "source": [
        "import torch\n",
        "print(torch.version.cuda)\n",
        "print(torch.cuda.is_available())\n"
      ]
    },
    {
      "cell_type": "code",
      "execution_count": null,
      "metadata": {
        "colab": {
          "base_uri": "https://localhost:8080/"
        },
        "id": "wbvMlHd_QwMG",
        "outputId": "3809e5a9-dd41-4577-fe62-5531abf7cca2"
      },
      "outputs": [
        {
          "name": "stdout",
          "output_type": "stream",
          "text": [
            "YOLOv5 🚀 v6.0-48-g84a8099 torch 1.10.0+cu102 CUDA:0 (Tesla V100-SXM2-16GB, 16160MiB)\n",
            "Setup complete ✅\n"
          ]
        }
      ],
      "source": [
        "!git clone https://github.com/ultralytics/yolov5  # clone\n",
        "%cd yolov5\n",
        "%pip install -qr requirements.txt  # install\n",
        "\n",
        "import torch\n",
        "from yolov5 import utils\n",
        "display = utils.notebook_init()  # checks"
      ]
    },
    {
      "cell_type": "code",
      "execution_count": 3,
      "metadata": {},
      "outputs": [
        {
          "name": "stdout",
          "output_type": "stream",
          "text": [
            "File 'P0000.txt' processed. Content modified in 'E:\\yolov5-master\\yolov5_obb-master\\dataset\\DOTAv1.5\\val\\labelTxt\\P0000.txt'.\n",
            "File 'P0001.txt' processed. Content modified in 'E:\\yolov5-master\\yolov5_obb-master\\dataset\\DOTAv1.5\\val\\labelTxt\\P0001.txt'.\n",
            "File 'P0002.txt' processed. Content modified in 'E:\\yolov5-master\\yolov5_obb-master\\dataset\\DOTAv1.5\\val\\labelTxt\\P0002.txt'.\n",
            "File 'P0005.txt' processed. Content modified in 'E:\\yolov5-master\\yolov5_obb-master\\dataset\\DOTAv1.5\\val\\labelTxt\\P0005.txt'.\n",
            "File 'P0008.txt' processed. Content modified in 'E:\\yolov5-master\\yolov5_obb-master\\dataset\\DOTAv1.5\\val\\labelTxt\\P0008.txt'.\n",
            "File 'P0010.txt' processed. Content modified in 'E:\\yolov5-master\\yolov5_obb-master\\dataset\\DOTAv1.5\\val\\labelTxt\\P0010.txt'.\n",
            "File 'P0011.txt' processed. Content modified in 'E:\\yolov5-master\\yolov5_obb-master\\dataset\\DOTAv1.5\\val\\labelTxt\\P0011.txt'.\n",
            "File 'P0012.txt' processed. Content modified in 'E:\\yolov5-master\\yolov5_obb-master\\dataset\\DOTAv1.5\\val\\labelTxt\\P0012.txt'.\n",
            "File 'P0013.txt' processed. Content modified in 'E:\\yolov5-master\\yolov5_obb-master\\dataset\\DOTAv1.5\\val\\labelTxt\\P0013.txt'.\n",
            "File 'P0018.txt' processed. Content modified in 'E:\\yolov5-master\\yolov5_obb-master\\dataset\\DOTAv1.5\\val\\labelTxt\\P0018.txt'.\n",
            "File 'P0020.txt' processed. Content modified in 'E:\\yolov5-master\\yolov5_obb-master\\dataset\\DOTAv1.5\\val\\labelTxt\\P0020.txt'.\n",
            "File 'P0021.txt' processed. Content modified in 'E:\\yolov5-master\\yolov5_obb-master\\dataset\\DOTAv1.5\\val\\labelTxt\\P0021.txt'.\n",
            "File 'P0022.txt' processed. Content modified in 'E:\\yolov5-master\\yolov5_obb-master\\dataset\\DOTAv1.5\\val\\labelTxt\\P0022.txt'.\n",
            "File 'P0023.txt' processed. Content modified in 'E:\\yolov5-master\\yolov5_obb-master\\dataset\\DOTAv1.5\\val\\labelTxt\\P0023.txt'.\n",
            "File 'P0025.txt' processed. Content modified in 'E:\\yolov5-master\\yolov5_obb-master\\dataset\\DOTAv1.5\\val\\labelTxt\\P0025.txt'.\n",
            "File 'P0029.txt' processed. Content modified in 'E:\\yolov5-master\\yolov5_obb-master\\dataset\\DOTAv1.5\\val\\labelTxt\\P0029.txt'.\n",
            "File 'P0030.txt' processed. Content modified in 'E:\\yolov5-master\\yolov5_obb-master\\dataset\\DOTAv1.5\\val\\labelTxt\\P0030.txt'.\n",
            "File 'P0032.txt' processed. Content modified in 'E:\\yolov5-master\\yolov5_obb-master\\dataset\\DOTAv1.5\\val\\labelTxt\\P0032.txt'.\n",
            "File 'P0036.txt' processed. Content modified in 'E:\\yolov5-master\\yolov5_obb-master\\dataset\\DOTAv1.5\\val\\labelTxt\\P0036.txt'.\n",
            "File 'P0038.txt' processed. Content modified in 'E:\\yolov5-master\\yolov5_obb-master\\dataset\\DOTAv1.5\\val\\labelTxt\\P0038.txt'.\n",
            "File 'P0039.txt' processed. Content modified in 'E:\\yolov5-master\\yolov5_obb-master\\dataset\\DOTAv1.5\\val\\labelTxt\\P0039.txt'.\n",
            "File 'P0041.txt' processed. Content modified in 'E:\\yolov5-master\\yolov5_obb-master\\dataset\\DOTAv1.5\\val\\labelTxt\\P0041.txt'.\n",
            "File 'P0042.txt' processed. Content modified in 'E:\\yolov5-master\\yolov5_obb-master\\dataset\\DOTAv1.5\\val\\labelTxt\\P0042.txt'.\n",
            "File 'P0044.txt' processed. Content modified in 'E:\\yolov5-master\\yolov5_obb-master\\dataset\\DOTAv1.5\\val\\labelTxt\\P0044.txt'.\n",
            "File 'P0049.txt' processed. Content modified in 'E:\\yolov5-master\\yolov5_obb-master\\dataset\\DOTAv1.5\\val\\labelTxt\\P0049.txt'.\n",
            "File 'P0050.txt' processed. Content modified in 'E:\\yolov5-master\\yolov5_obb-master\\dataset\\DOTAv1.5\\val\\labelTxt\\P0050.txt'.\n",
            "File 'P0052.txt' processed. Content modified in 'E:\\yolov5-master\\yolov5_obb-master\\dataset\\DOTAv1.5\\val\\labelTxt\\P0052.txt'.\n",
            "File 'P0054.txt' processed. Content modified in 'E:\\yolov5-master\\yolov5_obb-master\\dataset\\DOTAv1.5\\val\\labelTxt\\P0054.txt'.\n",
            "File 'P0058.txt' processed. Content modified in 'E:\\yolov5-master\\yolov5_obb-master\\dataset\\DOTAv1.5\\val\\labelTxt\\P0058.txt'.\n",
            "File 'P0061.txt' processed. Content modified in 'E:\\yolov5-master\\yolov5_obb-master\\dataset\\DOTAv1.5\\val\\labelTxt\\P0061.txt'.\n",
            "File 'P0063.txt' processed. Content modified in 'E:\\yolov5-master\\yolov5_obb-master\\dataset\\DOTAv1.5\\val\\labelTxt\\P0063.txt'.\n",
            "File 'P0064.txt' processed. Content modified in 'E:\\yolov5-master\\yolov5_obb-master\\dataset\\DOTAv1.5\\val\\labelTxt\\P0064.txt'.\n",
            "File 'P0065.txt' processed. Content modified in 'E:\\yolov5-master\\yolov5_obb-master\\dataset\\DOTAv1.5\\val\\labelTxt\\P0065.txt'.\n",
            "File 'P0066.txt' processed. Content modified in 'E:\\yolov5-master\\yolov5_obb-master\\dataset\\DOTAv1.5\\val\\labelTxt\\P0066.txt'.\n",
            "File 'P0067.txt' processed. Content modified in 'E:\\yolov5-master\\yolov5_obb-master\\dataset\\DOTAv1.5\\val\\labelTxt\\P0067.txt'.\n",
            "File 'P0068.txt' processed. Content modified in 'E:\\yolov5-master\\yolov5_obb-master\\dataset\\DOTAv1.5\\val\\labelTxt\\P0068.txt'.\n",
            "File 'P0070.txt' processed. Content modified in 'E:\\yolov5-master\\yolov5_obb-master\\dataset\\DOTAv1.5\\val\\labelTxt\\P0070.txt'.\n",
            "File 'P0071.txt' processed. Content modified in 'E:\\yolov5-master\\yolov5_obb-master\\dataset\\DOTAv1.5\\val\\labelTxt\\P0071.txt'.\n",
            "File 'P0074.txt' processed. Content modified in 'E:\\yolov5-master\\yolov5_obb-master\\dataset\\DOTAv1.5\\val\\labelTxt\\P0074.txt'.\n",
            "File 'P0076.txt' processed. Content modified in 'E:\\yolov5-master\\yolov5_obb-master\\dataset\\DOTAv1.5\\val\\labelTxt\\P0076.txt'.\n",
            "File 'P0078.txt' processed. Content modified in 'E:\\yolov5-master\\yolov5_obb-master\\dataset\\DOTAv1.5\\val\\labelTxt\\P0078.txt'.\n",
            "File 'P0082.txt' processed. Content modified in 'E:\\yolov5-master\\yolov5_obb-master\\dataset\\DOTAv1.5\\val\\labelTxt\\P0082.txt'.\n",
            "File 'P0083.txt' processed. Content modified in 'E:\\yolov5-master\\yolov5_obb-master\\dataset\\DOTAv1.5\\val\\labelTxt\\P0083.txt'.\n",
            "File 'P0085.txt' processed. Content modified in 'E:\\yolov5-master\\yolov5_obb-master\\dataset\\DOTAv1.5\\val\\labelTxt\\P0085.txt'.\n",
            "File 'P0087.txt' processed. Content modified in 'E:\\yolov5-master\\yolov5_obb-master\\dataset\\DOTAv1.5\\val\\labelTxt\\P0087.txt'.\n",
            "File 'P0091.txt' processed. Content modified in 'E:\\yolov5-master\\yolov5_obb-master\\dataset\\DOTAv1.5\\val\\labelTxt\\P0091.txt'.\n",
            "File 'P0093.txt' processed. Content modified in 'E:\\yolov5-master\\yolov5_obb-master\\dataset\\DOTAv1.5\\val\\labelTxt\\P0093.txt'.\n",
            "File 'P0094.txt' processed. Content modified in 'E:\\yolov5-master\\yolov5_obb-master\\dataset\\DOTAv1.5\\val\\labelTxt\\P0094.txt'.\n",
            "File 'P0095.txt' processed. Content modified in 'E:\\yolov5-master\\yolov5_obb-master\\dataset\\DOTAv1.5\\val\\labelTxt\\P0095.txt'.\n",
            "File 'P0096.txt' processed. Content modified in 'E:\\yolov5-master\\yolov5_obb-master\\dataset\\DOTAv1.5\\val\\labelTxt\\P0096.txt'.\n",
            "File 'P0098.txt' processed. Content modified in 'E:\\yolov5-master\\yolov5_obb-master\\dataset\\DOTAv1.5\\val\\labelTxt\\P0098.txt'.\n",
            "File 'P0099.txt' processed. Content modified in 'E:\\yolov5-master\\yolov5_obb-master\\dataset\\DOTAv1.5\\val\\labelTxt\\P0099.txt'.\n",
            "File 'P0100.txt' processed. Content modified in 'E:\\yolov5-master\\yolov5_obb-master\\dataset\\DOTAv1.5\\val\\labelTxt\\P0100.txt'.\n",
            "File 'P0103.txt' processed. Content modified in 'E:\\yolov5-master\\yolov5_obb-master\\dataset\\DOTAv1.5\\val\\labelTxt\\P0103.txt'.\n",
            "File 'P0109.txt' processed. Content modified in 'E:\\yolov5-master\\yolov5_obb-master\\dataset\\DOTAv1.5\\val\\labelTxt\\P0109.txt'.\n",
            "File 'P0111.txt' processed. Content modified in 'E:\\yolov5-master\\yolov5_obb-master\\dataset\\DOTAv1.5\\val\\labelTxt\\P0111.txt'.\n",
            "File 'P0113.txt' processed. Content modified in 'E:\\yolov5-master\\yolov5_obb-master\\dataset\\DOTAv1.5\\val\\labelTxt\\P0113.txt'.\n",
            "File 'P0116.txt' processed. Content modified in 'E:\\yolov5-master\\yolov5_obb-master\\dataset\\DOTAv1.5\\val\\labelTxt\\P0116.txt'.\n",
            "File 'P0119.txt' processed. Content modified in 'E:\\yolov5-master\\yolov5_obb-master\\dataset\\DOTAv1.5\\val\\labelTxt\\P0119.txt'.\n",
            "File 'P0122.txt' processed. Content modified in 'E:\\yolov5-master\\yolov5_obb-master\\dataset\\DOTAv1.5\\val\\labelTxt\\P0122.txt'.\n",
            "File 'P0124.txt' processed. Content modified in 'E:\\yolov5-master\\yolov5_obb-master\\dataset\\DOTAv1.5\\val\\labelTxt\\P0124.txt'.\n",
            "File 'P0126.txt' processed. Content modified in 'E:\\yolov5-master\\yolov5_obb-master\\dataset\\DOTAv1.5\\val\\labelTxt\\P0126.txt'.\n",
            "File 'P0129.txt' processed. Content modified in 'E:\\yolov5-master\\yolov5_obb-master\\dataset\\DOTAv1.5\\val\\labelTxt\\P0129.txt'.\n",
            "File 'P0133.txt' processed. Content modified in 'E:\\yolov5-master\\yolov5_obb-master\\dataset\\DOTAv1.5\\val\\labelTxt\\P0133.txt'.\n",
            "File 'P0136.txt' processed. Content modified in 'E:\\yolov5-master\\yolov5_obb-master\\dataset\\DOTAv1.5\\val\\labelTxt\\P0136.txt'.\n",
            "File 'P0139.txt' processed. Content modified in 'E:\\yolov5-master\\yolov5_obb-master\\dataset\\DOTAv1.5\\val\\labelTxt\\P0139.txt'.\n",
            "File 'P0140.txt' processed. Content modified in 'E:\\yolov5-master\\yolov5_obb-master\\dataset\\DOTAv1.5\\val\\labelTxt\\P0140.txt'.\n",
            "File 'P0141.txt' processed. Content modified in 'E:\\yolov5-master\\yolov5_obb-master\\dataset\\DOTAv1.5\\val\\labelTxt\\P0141.txt'.\n",
            "File 'P0142.txt' processed. Content modified in 'E:\\yolov5-master\\yolov5_obb-master\\dataset\\DOTAv1.5\\val\\labelTxt\\P0142.txt'.\n",
            "File 'P0144.txt' processed. Content modified in 'E:\\yolov5-master\\yolov5_obb-master\\dataset\\DOTAv1.5\\val\\labelTxt\\P0144.txt'.\n",
            "File 'P0147.txt' processed. Content modified in 'E:\\yolov5-master\\yolov5_obb-master\\dataset\\DOTAv1.5\\val\\labelTxt\\P0147.txt'.\n",
            "File 'P0149.txt' processed. Content modified in 'E:\\yolov5-master\\yolov5_obb-master\\dataset\\DOTAv1.5\\val\\labelTxt\\P0149.txt'.\n",
            "File 'P0151.txt' processed. Content modified in 'E:\\yolov5-master\\yolov5_obb-master\\dataset\\DOTAv1.5\\val\\labelTxt\\P0151.txt'.\n",
            "File 'P0152.txt' processed. Content modified in 'E:\\yolov5-master\\yolov5_obb-master\\dataset\\DOTAv1.5\\val\\labelTxt\\P0152.txt'.\n",
            "File 'P0158.txt' processed. Content modified in 'E:\\yolov5-master\\yolov5_obb-master\\dataset\\DOTAv1.5\\val\\labelTxt\\P0158.txt'.\n",
            "File 'P0159.txt' processed. Content modified in 'E:\\yolov5-master\\yolov5_obb-master\\dataset\\DOTAv1.5\\val\\labelTxt\\P0159.txt'.\n",
            "File 'P0160.txt' processed. Content modified in 'E:\\yolov5-master\\yolov5_obb-master\\dataset\\DOTAv1.5\\val\\labelTxt\\P0160.txt'.\n",
            "File 'P0162.txt' processed. Content modified in 'E:\\yolov5-master\\yolov5_obb-master\\dataset\\DOTAv1.5\\val\\labelTxt\\P0162.txt'.\n",
            "File 'P0163.txt' processed. Content modified in 'E:\\yolov5-master\\yolov5_obb-master\\dataset\\DOTAv1.5\\val\\labelTxt\\P0163.txt'.\n",
            "File 'P0164.txt' processed. Content modified in 'E:\\yolov5-master\\yolov5_obb-master\\dataset\\DOTAv1.5\\val\\labelTxt\\P0164.txt'.\n",
            "File 'P0167.txt' processed. Content modified in 'E:\\yolov5-master\\yolov5_obb-master\\dataset\\DOTAv1.5\\val\\labelTxt\\P0167.txt'.\n",
            "File 'P0169.txt' processed. Content modified in 'E:\\yolov5-master\\yolov5_obb-master\\dataset\\DOTAv1.5\\val\\labelTxt\\P0169.txt'.\n",
            "File 'P0171.txt' processed. Content modified in 'E:\\yolov5-master\\yolov5_obb-master\\dataset\\DOTAv1.5\\val\\labelTxt\\P0171.txt'.\n",
            "File 'P0172.txt' processed. Content modified in 'E:\\yolov5-master\\yolov5_obb-master\\dataset\\DOTAv1.5\\val\\labelTxt\\P0172.txt'.\n",
            "File 'P0174.txt' processed. Content modified in 'E:\\yolov5-master\\yolov5_obb-master\\dataset\\DOTAv1.5\\val\\labelTxt\\P0174.txt'.\n",
            "File 'P0176.txt' processed. Content modified in 'E:\\yolov5-master\\yolov5_obb-master\\dataset\\DOTAv1.5\\val\\labelTxt\\P0176.txt'.\n",
            "File 'P0178.txt' processed. Content modified in 'E:\\yolov5-master\\yolov5_obb-master\\dataset\\DOTAv1.5\\val\\labelTxt\\P0178.txt'.\n",
            "File 'P0183.txt' processed. Content modified in 'E:\\yolov5-master\\yolov5_obb-master\\dataset\\DOTAv1.5\\val\\labelTxt\\P0183.txt'.\n",
            "File 'P0187.txt' processed. Content modified in 'E:\\yolov5-master\\yolov5_obb-master\\dataset\\DOTAv1.5\\val\\labelTxt\\P0187.txt'.\n",
            "File 'P0188.txt' processed. Content modified in 'E:\\yolov5-master\\yolov5_obb-master\\dataset\\DOTAv1.5\\val\\labelTxt\\P0188.txt'.\n",
            "File 'P0190.txt' processed. Content modified in 'E:\\yolov5-master\\yolov5_obb-master\\dataset\\DOTAv1.5\\val\\labelTxt\\P0190.txt'.\n",
            "File 'P0200.txt' processed. Content modified in 'E:\\yolov5-master\\yolov5_obb-master\\dataset\\DOTAv1.5\\val\\labelTxt\\P0200.txt'.\n",
            "File 'P0201.txt' processed. Content modified in 'E:\\yolov5-master\\yolov5_obb-master\\dataset\\DOTAv1.5\\val\\labelTxt\\P0201.txt'.\n",
            "File 'P0202.txt' processed. Content modified in 'E:\\yolov5-master\\yolov5_obb-master\\dataset\\DOTAv1.5\\val\\labelTxt\\P0202.txt'.\n",
            "File 'P0203.txt' processed. Content modified in 'E:\\yolov5-master\\yolov5_obb-master\\dataset\\DOTAv1.5\\val\\labelTxt\\P0203.txt'.\n",
            "File 'P0204.txt' processed. Content modified in 'E:\\yolov5-master\\yolov5_obb-master\\dataset\\DOTAv1.5\\val\\labelTxt\\P0204.txt'.\n",
            "File 'P0207.txt' processed. Content modified in 'E:\\yolov5-master\\yolov5_obb-master\\dataset\\DOTAv1.5\\val\\labelTxt\\P0207.txt'.\n",
            "File 'P0209.txt' processed. Content modified in 'E:\\yolov5-master\\yolov5_obb-master\\dataset\\DOTAv1.5\\val\\labelTxt\\P0209.txt'.\n",
            "File 'P0210.txt' processed. Content modified in 'E:\\yolov5-master\\yolov5_obb-master\\dataset\\DOTAv1.5\\val\\labelTxt\\P0210.txt'.\n",
            "File 'P0212.txt' processed. Content modified in 'E:\\yolov5-master\\yolov5_obb-master\\dataset\\DOTAv1.5\\val\\labelTxt\\P0212.txt'.\n",
            "File 'P0215.txt' processed. Content modified in 'E:\\yolov5-master\\yolov5_obb-master\\dataset\\DOTAv1.5\\val\\labelTxt\\P0215.txt'.\n",
            "File 'P0218.txt' processed. Content modified in 'E:\\yolov5-master\\yolov5_obb-master\\dataset\\DOTAv1.5\\val\\labelTxt\\P0218.txt'.\n",
            "File 'P0219.txt' processed. Content modified in 'E:\\yolov5-master\\yolov5_obb-master\\dataset\\DOTAv1.5\\val\\labelTxt\\P0219.txt'.\n",
            "File 'P0220.txt' processed. Content modified in 'E:\\yolov5-master\\yolov5_obb-master\\dataset\\DOTAv1.5\\val\\labelTxt\\P0220.txt'.\n",
            "File 'P0221.txt' processed. Content modified in 'E:\\yolov5-master\\yolov5_obb-master\\dataset\\DOTAv1.5\\val\\labelTxt\\P0221.txt'.\n",
            "File 'P0222.txt' processed. Content modified in 'E:\\yolov5-master\\yolov5_obb-master\\dataset\\DOTAv1.5\\val\\labelTxt\\P0222.txt'.\n",
            "File 'P0223.txt' processed. Content modified in 'E:\\yolov5-master\\yolov5_obb-master\\dataset\\DOTAv1.5\\val\\labelTxt\\P0223.txt'.\n",
            "File 'P0224.txt' processed. Content modified in 'E:\\yolov5-master\\yolov5_obb-master\\dataset\\DOTAv1.5\\val\\labelTxt\\P0224.txt'.\n",
            "File 'P0225.txt' processed. Content modified in 'E:\\yolov5-master\\yolov5_obb-master\\dataset\\DOTAv1.5\\val\\labelTxt\\P0225.txt'.\n",
            "File 'P0226.txt' processed. Content modified in 'E:\\yolov5-master\\yolov5_obb-master\\dataset\\DOTAv1.5\\val\\labelTxt\\P0226.txt'.\n",
            "File 'P0227.txt' processed. Content modified in 'E:\\yolov5-master\\yolov5_obb-master\\dataset\\DOTAv1.5\\val\\labelTxt\\P0227.txt'.\n",
            "File 'P0229.txt' processed. Content modified in 'E:\\yolov5-master\\yolov5_obb-master\\dataset\\DOTAv1.5\\val\\labelTxt\\P0229.txt'.\n",
            "File 'P0232.txt' processed. Content modified in 'E:\\yolov5-master\\yolov5_obb-master\\dataset\\DOTAv1.5\\val\\labelTxt\\P0232.txt'.\n",
            "File 'P0233.txt' processed. Content modified in 'E:\\yolov5-master\\yolov5_obb-master\\dataset\\DOTAv1.5\\val\\labelTxt\\P0233.txt'.\n",
            "File 'P0235.txt' processed. Content modified in 'E:\\yolov5-master\\yolov5_obb-master\\dataset\\DOTAv1.5\\val\\labelTxt\\P0235.txt'.\n",
            "File 'P0236.txt' processed. Content modified in 'E:\\yolov5-master\\yolov5_obb-master\\dataset\\DOTAv1.5\\val\\labelTxt\\P0236.txt'.\n",
            "File 'P0238.txt' processed. Content modified in 'E:\\yolov5-master\\yolov5_obb-master\\dataset\\DOTAv1.5\\val\\labelTxt\\P0238.txt'.\n",
            "File 'P0241.txt' processed. Content modified in 'E:\\yolov5-master\\yolov5_obb-master\\dataset\\DOTAv1.5\\val\\labelTxt\\P0241.txt'.\n",
            "File 'P0244.txt' processed. Content modified in 'E:\\yolov5-master\\yolov5_obb-master\\dataset\\DOTAv1.5\\val\\labelTxt\\P0244.txt'.\n",
            "File 'P0248.txt' processed. Content modified in 'E:\\yolov5-master\\yolov5_obb-master\\dataset\\DOTAv1.5\\val\\labelTxt\\P0248.txt'.\n",
            "File 'P0250.txt' processed. Content modified in 'E:\\yolov5-master\\yolov5_obb-master\\dataset\\DOTAv1.5\\val\\labelTxt\\P0250.txt'.\n",
            "File 'P0251.txt' processed. Content modified in 'E:\\yolov5-master\\yolov5_obb-master\\dataset\\DOTAv1.5\\val\\labelTxt\\P0251.txt'.\n",
            "File 'P0252.txt' processed. Content modified in 'E:\\yolov5-master\\yolov5_obb-master\\dataset\\DOTAv1.5\\val\\labelTxt\\P0252.txt'.\n",
            "File 'P0254.txt' processed. Content modified in 'E:\\yolov5-master\\yolov5_obb-master\\dataset\\DOTAv1.5\\val\\labelTxt\\P0254.txt'.\n",
            "File 'P0255.txt' processed. Content modified in 'E:\\yolov5-master\\yolov5_obb-master\\dataset\\DOTAv1.5\\val\\labelTxt\\P0255.txt'.\n",
            "File 'P0256.txt' processed. Content modified in 'E:\\yolov5-master\\yolov5_obb-master\\dataset\\DOTAv1.5\\val\\labelTxt\\P0256.txt'.\n",
            "File 'P0258.txt' processed. Content modified in 'E:\\yolov5-master\\yolov5_obb-master\\dataset\\DOTAv1.5\\val\\labelTxt\\P0258.txt'.\n",
            "File 'P0260.txt' processed. Content modified in 'E:\\yolov5-master\\yolov5_obb-master\\dataset\\DOTAv1.5\\val\\labelTxt\\P0260.txt'.\n",
            "File 'P0263.txt' processed. Content modified in 'E:\\yolov5-master\\yolov5_obb-master\\dataset\\DOTAv1.5\\val\\labelTxt\\P0263.txt'.\n",
            "File 'P0264.txt' processed. Content modified in 'E:\\yolov5-master\\yolov5_obb-master\\dataset\\DOTAv1.5\\val\\labelTxt\\P0264.txt'.\n",
            "File 'P0270.txt' processed. Content modified in 'E:\\yolov5-master\\yolov5_obb-master\\dataset\\DOTAv1.5\\val\\labelTxt\\P0270.txt'.\n",
            "File 'P0272.txt' processed. Content modified in 'E:\\yolov5-master\\yolov5_obb-master\\dataset\\DOTAv1.5\\val\\labelTxt\\P0272.txt'.\n",
            "File 'P0273.txt' processed. Content modified in 'E:\\yolov5-master\\yolov5_obb-master\\dataset\\DOTAv1.5\\val\\labelTxt\\P0273.txt'.\n",
            "File 'P0275.txt' processed. Content modified in 'E:\\yolov5-master\\yolov5_obb-master\\dataset\\DOTAv1.5\\val\\labelTxt\\P0275.txt'.\n",
            "File 'P0276.txt' processed. Content modified in 'E:\\yolov5-master\\yolov5_obb-master\\dataset\\DOTAv1.5\\val\\labelTxt\\P0276.txt'.\n",
            "File 'P0280.txt' processed. Content modified in 'E:\\yolov5-master\\yolov5_obb-master\\dataset\\DOTAv1.5\\val\\labelTxt\\P0280.txt'.\n",
            "File 'P0281.txt' processed. Content modified in 'E:\\yolov5-master\\yolov5_obb-master\\dataset\\DOTAv1.5\\val\\labelTxt\\P0281.txt'.\n",
            "File 'P0282.txt' processed. Content modified in 'E:\\yolov5-master\\yolov5_obb-master\\dataset\\DOTAv1.5\\val\\labelTxt\\P0282.txt'.\n",
            "File 'P0283.txt' processed. Content modified in 'E:\\yolov5-master\\yolov5_obb-master\\dataset\\DOTAv1.5\\val\\labelTxt\\P0283.txt'.\n",
            "File 'P0285.txt' processed. Content modified in 'E:\\yolov5-master\\yolov5_obb-master\\dataset\\DOTAv1.5\\val\\labelTxt\\P0285.txt'.\n",
            "File 'P0286.txt' processed. Content modified in 'E:\\yolov5-master\\yolov5_obb-master\\dataset\\DOTAv1.5\\val\\labelTxt\\P0286.txt'.\n",
            "File 'P0288.txt' processed. Content modified in 'E:\\yolov5-master\\yolov5_obb-master\\dataset\\DOTAv1.5\\val\\labelTxt\\P0288.txt'.\n",
            "File 'P0289.txt' processed. Content modified in 'E:\\yolov5-master\\yolov5_obb-master\\dataset\\DOTAv1.5\\val\\labelTxt\\P0289.txt'.\n",
            "File 'P0292.txt' processed. Content modified in 'E:\\yolov5-master\\yolov5_obb-master\\dataset\\DOTAv1.5\\val\\labelTxt\\P0292.txt'.\n",
            "File 'P0293.txt' processed. Content modified in 'E:\\yolov5-master\\yolov5_obb-master\\dataset\\DOTAv1.5\\val\\labelTxt\\P0293.txt'.\n",
            "File 'P0294.txt' processed. Content modified in 'E:\\yolov5-master\\yolov5_obb-master\\dataset\\DOTAv1.5\\val\\labelTxt\\P0294.txt'.\n",
            "File 'P0296.txt' processed. Content modified in 'E:\\yolov5-master\\yolov5_obb-master\\dataset\\DOTAv1.5\\val\\labelTxt\\P0296.txt'.\n",
            "File 'P0299.txt' processed. Content modified in 'E:\\yolov5-master\\yolov5_obb-master\\dataset\\DOTAv1.5\\val\\labelTxt\\P0299.txt'.\n",
            "File 'P0301.txt' processed. Content modified in 'E:\\yolov5-master\\yolov5_obb-master\\dataset\\DOTAv1.5\\val\\labelTxt\\P0301.txt'.\n",
            "File 'P0303.txt' processed. Content modified in 'E:\\yolov5-master\\yolov5_obb-master\\dataset\\DOTAv1.5\\val\\labelTxt\\P0303.txt'.\n",
            "File 'P0308.txt' processed. Content modified in 'E:\\yolov5-master\\yolov5_obb-master\\dataset\\DOTAv1.5\\val\\labelTxt\\P0308.txt'.\n",
            "File 'P0310.txt' processed. Content modified in 'E:\\yolov5-master\\yolov5_obb-master\\dataset\\DOTAv1.5\\val\\labelTxt\\P0310.txt'.\n",
            "File 'P0313.txt' processed. Content modified in 'E:\\yolov5-master\\yolov5_obb-master\\dataset\\DOTAv1.5\\val\\labelTxt\\P0313.txt'.\n",
            "File 'P0314.txt' processed. Content modified in 'E:\\yolov5-master\\yolov5_obb-master\\dataset\\DOTAv1.5\\val\\labelTxt\\P0314.txt'.\n",
            "File 'P0315.txt' processed. Content modified in 'E:\\yolov5-master\\yolov5_obb-master\\dataset\\DOTAv1.5\\val\\labelTxt\\P0315.txt'.\n",
            "File 'P0317.txt' processed. Content modified in 'E:\\yolov5-master\\yolov5_obb-master\\dataset\\DOTAv1.5\\val\\labelTxt\\P0317.txt'.\n",
            "File 'P0321.txt' processed. Content modified in 'E:\\yolov5-master\\yolov5_obb-master\\dataset\\DOTAv1.5\\val\\labelTxt\\P0321.txt'.\n",
            "File 'P0322.txt' processed. Content modified in 'E:\\yolov5-master\\yolov5_obb-master\\dataset\\DOTAv1.5\\val\\labelTxt\\P0322.txt'.\n",
            "File 'P0324.txt' processed. Content modified in 'E:\\yolov5-master\\yolov5_obb-master\\dataset\\DOTAv1.5\\val\\labelTxt\\P0324.txt'.\n",
            "File 'P0327.txt' processed. Content modified in 'E:\\yolov5-master\\yolov5_obb-master\\dataset\\DOTAv1.5\\val\\labelTxt\\P0327.txt'.\n",
            "File 'P0330.txt' processed. Content modified in 'E:\\yolov5-master\\yolov5_obb-master\\dataset\\DOTAv1.5\\val\\labelTxt\\P0330.txt'.\n",
            "File 'P0332.txt' processed. Content modified in 'E:\\yolov5-master\\yolov5_obb-master\\dataset\\DOTAv1.5\\val\\labelTxt\\P0332.txt'.\n",
            "File 'P0335.txt' processed. Content modified in 'E:\\yolov5-master\\yolov5_obb-master\\dataset\\DOTAv1.5\\val\\labelTxt\\P0335.txt'.\n",
            "File 'P0337.txt' processed. Content modified in 'E:\\yolov5-master\\yolov5_obb-master\\dataset\\DOTAv1.5\\val\\labelTxt\\P0337.txt'.\n",
            "File 'P0338.txt' processed. Content modified in 'E:\\yolov5-master\\yolov5_obb-master\\dataset\\DOTAv1.5\\val\\labelTxt\\P0338.txt'.\n",
            "File 'P0339.txt' processed. Content modified in 'E:\\yolov5-master\\yolov5_obb-master\\dataset\\DOTAv1.5\\val\\labelTxt\\P0339.txt'.\n",
            "File 'P0340.txt' processed. Content modified in 'E:\\yolov5-master\\yolov5_obb-master\\dataset\\DOTAv1.5\\val\\labelTxt\\P0340.txt'.\n",
            "File 'P0343.txt' processed. Content modified in 'E:\\yolov5-master\\yolov5_obb-master\\dataset\\DOTAv1.5\\val\\labelTxt\\P0343.txt'.\n",
            "File 'P0345.txt' processed. Content modified in 'E:\\yolov5-master\\yolov5_obb-master\\dataset\\DOTAv1.5\\val\\labelTxt\\P0345.txt'.\n",
            "File 'P0346.txt' processed. Content modified in 'E:\\yolov5-master\\yolov5_obb-master\\dataset\\DOTAv1.5\\val\\labelTxt\\P0346.txt'.\n",
            "File 'P0349.txt' processed. Content modified in 'E:\\yolov5-master\\yolov5_obb-master\\dataset\\DOTAv1.5\\val\\labelTxt\\P0349.txt'.\n",
            "File 'P0350.txt' processed. Content modified in 'E:\\yolov5-master\\yolov5_obb-master\\dataset\\DOTAv1.5\\val\\labelTxt\\P0350.txt'.\n",
            "File 'P0355.txt' processed. Content modified in 'E:\\yolov5-master\\yolov5_obb-master\\dataset\\DOTAv1.5\\val\\labelTxt\\P0355.txt'.\n",
            "File 'P0357.txt' processed. Content modified in 'E:\\yolov5-master\\yolov5_obb-master\\dataset\\DOTAv1.5\\val\\labelTxt\\P0357.txt'.\n",
            "File 'P0358.txt' processed. Content modified in 'E:\\yolov5-master\\yolov5_obb-master\\dataset\\DOTAv1.5\\val\\labelTxt\\P0358.txt'.\n",
            "File 'P0360.txt' processed. Content modified in 'E:\\yolov5-master\\yolov5_obb-master\\dataset\\DOTAv1.5\\val\\labelTxt\\P0360.txt'.\n",
            "File 'P0361.txt' processed. Content modified in 'E:\\yolov5-master\\yolov5_obb-master\\dataset\\DOTAv1.5\\val\\labelTxt\\P0361.txt'.\n",
            "File 'P0362.txt' processed. Content modified in 'E:\\yolov5-master\\yolov5_obb-master\\dataset\\DOTAv1.5\\val\\labelTxt\\P0362.txt'.\n",
            "File 'P0363.txt' processed. Content modified in 'E:\\yolov5-master\\yolov5_obb-master\\dataset\\DOTAv1.5\\val\\labelTxt\\P0363.txt'.\n",
            "File 'P0364.txt' processed. Content modified in 'E:\\yolov5-master\\yolov5_obb-master\\dataset\\DOTAv1.5\\val\\labelTxt\\P0364.txt'.\n",
            "File 'P0365.txt' processed. Content modified in 'E:\\yolov5-master\\yolov5_obb-master\\dataset\\DOTAv1.5\\val\\labelTxt\\P0365.txt'.\n",
            "File 'P0366.txt' processed. Content modified in 'E:\\yolov5-master\\yolov5_obb-master\\dataset\\DOTAv1.5\\val\\labelTxt\\P0366.txt'.\n",
            "File 'P0367.txt' processed. Content modified in 'E:\\yolov5-master\\yolov5_obb-master\\dataset\\DOTAv1.5\\val\\labelTxt\\P0367.txt'.\n",
            "File 'P0370.txt' processed. Content modified in 'E:\\yolov5-master\\yolov5_obb-master\\dataset\\DOTAv1.5\\val\\labelTxt\\P0370.txt'.\n",
            "File 'P0371.txt' processed. Content modified in 'E:\\yolov5-master\\yolov5_obb-master\\dataset\\DOTAv1.5\\val\\labelTxt\\P0371.txt'.\n",
            "File 'P0373.txt' processed. Content modified in 'E:\\yolov5-master\\yolov5_obb-master\\dataset\\DOTAv1.5\\val\\labelTxt\\P0373.txt'.\n",
            "File 'P0376.txt' processed. Content modified in 'E:\\yolov5-master\\yolov5_obb-master\\dataset\\DOTAv1.5\\val\\labelTxt\\P0376.txt'.\n",
            "File 'P0378.txt' processed. Content modified in 'E:\\yolov5-master\\yolov5_obb-master\\dataset\\DOTAv1.5\\val\\labelTxt\\P0378.txt'.\n",
            "File 'P0379.txt' processed. Content modified in 'E:\\yolov5-master\\yolov5_obb-master\\dataset\\DOTAv1.5\\val\\labelTxt\\P0379.txt'.\n",
            "File 'P0380.txt' processed. Content modified in 'E:\\yolov5-master\\yolov5_obb-master\\dataset\\DOTAv1.5\\val\\labelTxt\\P0380.txt'.\n",
            "File 'P0381.txt' processed. Content modified in 'E:\\yolov5-master\\yolov5_obb-master\\dataset\\DOTAv1.5\\val\\labelTxt\\P0381.txt'.\n",
            "File 'P0383.txt' processed. Content modified in 'E:\\yolov5-master\\yolov5_obb-master\\dataset\\DOTAv1.5\\val\\labelTxt\\P0383.txt'.\n",
            "File 'P0384.txt' processed. Content modified in 'E:\\yolov5-master\\yolov5_obb-master\\dataset\\DOTAv1.5\\val\\labelTxt\\P0384.txt'.\n",
            "File 'P0386.txt' processed. Content modified in 'E:\\yolov5-master\\yolov5_obb-master\\dataset\\DOTAv1.5\\val\\labelTxt\\P0386.txt'.\n",
            "File 'P0387.txt' processed. Content modified in 'E:\\yolov5-master\\yolov5_obb-master\\dataset\\DOTAv1.5\\val\\labelTxt\\P0387.txt'.\n",
            "File 'P0388.txt' processed. Content modified in 'E:\\yolov5-master\\yolov5_obb-master\\dataset\\DOTAv1.5\\val\\labelTxt\\P0388.txt'.\n",
            "File 'P0389.txt' processed. Content modified in 'E:\\yolov5-master\\yolov5_obb-master\\dataset\\DOTAv1.5\\val\\labelTxt\\P0389.txt'.\n",
            "File 'P0391.txt' processed. Content modified in 'E:\\yolov5-master\\yolov5_obb-master\\dataset\\DOTAv1.5\\val\\labelTxt\\P0391.txt'.\n",
            "File 'P0392.txt' processed. Content modified in 'E:\\yolov5-master\\yolov5_obb-master\\dataset\\DOTAv1.5\\val\\labelTxt\\P0392.txt'.\n",
            "File 'P0393.txt' processed. Content modified in 'E:\\yolov5-master\\yolov5_obb-master\\dataset\\DOTAv1.5\\val\\labelTxt\\P0393.txt'.\n",
            "File 'P0395.txt' processed. Content modified in 'E:\\yolov5-master\\yolov5_obb-master\\dataset\\DOTAv1.5\\val\\labelTxt\\P0395.txt'.\n",
            "File 'P0400.txt' processed. Content modified in 'E:\\yolov5-master\\yolov5_obb-master\\dataset\\DOTAv1.5\\val\\labelTxt\\P0400.txt'.\n",
            "File 'P0401.txt' processed. Content modified in 'E:\\yolov5-master\\yolov5_obb-master\\dataset\\DOTAv1.5\\val\\labelTxt\\P0401.txt'.\n",
            "File 'P0404.txt' processed. Content modified in 'E:\\yolov5-master\\yolov5_obb-master\\dataset\\DOTAv1.5\\val\\labelTxt\\P0404.txt'.\n",
            "File 'P0405.txt' processed. Content modified in 'E:\\yolov5-master\\yolov5_obb-master\\dataset\\DOTAv1.5\\val\\labelTxt\\P0405.txt'.\n",
            "File 'P0406.txt' processed. Content modified in 'E:\\yolov5-master\\yolov5_obb-master\\dataset\\DOTAv1.5\\val\\labelTxt\\P0406.txt'.\n",
            "File 'P0407.txt' processed. Content modified in 'E:\\yolov5-master\\yolov5_obb-master\\dataset\\DOTAv1.5\\val\\labelTxt\\P0407.txt'.\n",
            "File 'P0413.txt' processed. Content modified in 'E:\\yolov5-master\\yolov5_obb-master\\dataset\\DOTAv1.5\\val\\labelTxt\\P0413.txt'.\n",
            "File 'P0415.txt' processed. Content modified in 'E:\\yolov5-master\\yolov5_obb-master\\dataset\\DOTAv1.5\\val\\labelTxt\\P0415.txt'.\n",
            "File 'P0416.txt' processed. Content modified in 'E:\\yolov5-master\\yolov5_obb-master\\dataset\\DOTAv1.5\\val\\labelTxt\\P0416.txt'.\n",
            "File 'P0417.txt' processed. Content modified in 'E:\\yolov5-master\\yolov5_obb-master\\dataset\\DOTAv1.5\\val\\labelTxt\\P0417.txt'.\n",
            "File 'P0418.txt' processed. Content modified in 'E:\\yolov5-master\\yolov5_obb-master\\dataset\\DOTAv1.5\\val\\labelTxt\\P0418.txt'.\n",
            "File 'P0419.txt' processed. Content modified in 'E:\\yolov5-master\\yolov5_obb-master\\dataset\\DOTAv1.5\\val\\labelTxt\\P0419.txt'.\n",
            "File 'P0421.txt' processed. Content modified in 'E:\\yolov5-master\\yolov5_obb-master\\dataset\\DOTAv1.5\\val\\labelTxt\\P0421.txt'.\n",
            "File 'P0422.txt' processed. Content modified in 'E:\\yolov5-master\\yolov5_obb-master\\dataset\\DOTAv1.5\\val\\labelTxt\\P0422.txt'.\n",
            "File 'P0424.txt' processed. Content modified in 'E:\\yolov5-master\\yolov5_obb-master\\dataset\\DOTAv1.5\\val\\labelTxt\\P0424.txt'.\n",
            "File 'P0425.txt' processed. Content modified in 'E:\\yolov5-master\\yolov5_obb-master\\dataset\\DOTAv1.5\\val\\labelTxt\\P0425.txt'.\n",
            "File 'P0426.txt' processed. Content modified in 'E:\\yolov5-master\\yolov5_obb-master\\dataset\\DOTAv1.5\\val\\labelTxt\\P0426.txt'.\n",
            "File 'P0428.txt' processed. Content modified in 'E:\\yolov5-master\\yolov5_obb-master\\dataset\\DOTAv1.5\\val\\labelTxt\\P0428.txt'.\n",
            "File 'P0430.txt' processed. Content modified in 'E:\\yolov5-master\\yolov5_obb-master\\dataset\\DOTAv1.5\\val\\labelTxt\\P0430.txt'.\n",
            "File 'P0431.txt' processed. Content modified in 'E:\\yolov5-master\\yolov5_obb-master\\dataset\\DOTAv1.5\\val\\labelTxt\\P0431.txt'.\n",
            "File 'P0434.txt' processed. Content modified in 'E:\\yolov5-master\\yolov5_obb-master\\dataset\\DOTAv1.5\\val\\labelTxt\\P0434.txt'.\n",
            "File 'P0435.txt' processed. Content modified in 'E:\\yolov5-master\\yolov5_obb-master\\dataset\\DOTAv1.5\\val\\labelTxt\\P0435.txt'.\n",
            "File 'P0436.txt' processed. Content modified in 'E:\\yolov5-master\\yolov5_obb-master\\dataset\\DOTAv1.5\\val\\labelTxt\\P0436.txt'.\n",
            "File 'P0437.txt' processed. Content modified in 'E:\\yolov5-master\\yolov5_obb-master\\dataset\\DOTAv1.5\\val\\labelTxt\\P0437.txt'.\n",
            "File 'P0438.txt' processed. Content modified in 'E:\\yolov5-master\\yolov5_obb-master\\dataset\\DOTAv1.5\\val\\labelTxt\\P0438.txt'.\n",
            "File 'P0439.txt' processed. Content modified in 'E:\\yolov5-master\\yolov5_obb-master\\dataset\\DOTAv1.5\\val\\labelTxt\\P0439.txt'.\n",
            "File 'P0440.txt' processed. Content modified in 'E:\\yolov5-master\\yolov5_obb-master\\dataset\\DOTAv1.5\\val\\labelTxt\\P0440.txt'.\n",
            "File 'P0441.txt' processed. Content modified in 'E:\\yolov5-master\\yolov5_obb-master\\dataset\\DOTAv1.5\\val\\labelTxt\\P0441.txt'.\n",
            "File 'P0442.txt' processed. Content modified in 'E:\\yolov5-master\\yolov5_obb-master\\dataset\\DOTAv1.5\\val\\labelTxt\\P0442.txt'.\n",
            "File 'P0443.txt' processed. Content modified in 'E:\\yolov5-master\\yolov5_obb-master\\dataset\\DOTAv1.5\\val\\labelTxt\\P0443.txt'.\n",
            "File 'P0445.txt' processed. Content modified in 'E:\\yolov5-master\\yolov5_obb-master\\dataset\\DOTAv1.5\\val\\labelTxt\\P0445.txt'.\n",
            "File 'P0446.txt' processed. Content modified in 'E:\\yolov5-master\\yolov5_obb-master\\dataset\\DOTAv1.5\\val\\labelTxt\\P0446.txt'.\n",
            "File 'P0448.txt' processed. Content modified in 'E:\\yolov5-master\\yolov5_obb-master\\dataset\\DOTAv1.5\\val\\labelTxt\\P0448.txt'.\n",
            "File 'P0450.txt' processed. Content modified in 'E:\\yolov5-master\\yolov5_obb-master\\dataset\\DOTAv1.5\\val\\labelTxt\\P0450.txt'.\n",
            "File 'P0452.txt' processed. Content modified in 'E:\\yolov5-master\\yolov5_obb-master\\dataset\\DOTAv1.5\\val\\labelTxt\\P0452.txt'.\n",
            "File 'P0453.txt' processed. Content modified in 'E:\\yolov5-master\\yolov5_obb-master\\dataset\\DOTAv1.5\\val\\labelTxt\\P0453.txt'.\n",
            "File 'P0455.txt' processed. Content modified in 'E:\\yolov5-master\\yolov5_obb-master\\dataset\\DOTAv1.5\\val\\labelTxt\\P0455.txt'.\n",
            "File 'P0458.txt' processed. Content modified in 'E:\\yolov5-master\\yolov5_obb-master\\dataset\\DOTAv1.5\\val\\labelTxt\\P0458.txt'.\n",
            "File 'P0459.txt' processed. Content modified in 'E:\\yolov5-master\\yolov5_obb-master\\dataset\\DOTAv1.5\\val\\labelTxt\\P0459.txt'.\n",
            "File 'P0460.txt' processed. Content modified in 'E:\\yolov5-master\\yolov5_obb-master\\dataset\\DOTAv1.5\\val\\labelTxt\\P0460.txt'.\n",
            "File 'P0461.txt' processed. Content modified in 'E:\\yolov5-master\\yolov5_obb-master\\dataset\\DOTAv1.5\\val\\labelTxt\\P0461.txt'.\n",
            "File 'P0464.txt' processed. Content modified in 'E:\\yolov5-master\\yolov5_obb-master\\dataset\\DOTAv1.5\\val\\labelTxt\\P0464.txt'.\n",
            "File 'P0465.txt' processed. Content modified in 'E:\\yolov5-master\\yolov5_obb-master\\dataset\\DOTAv1.5\\val\\labelTxt\\P0465.txt'.\n",
            "File 'P0468.txt' processed. Content modified in 'E:\\yolov5-master\\yolov5_obb-master\\dataset\\DOTAv1.5\\val\\labelTxt\\P0468.txt'.\n",
            "File 'P0469.txt' processed. Content modified in 'E:\\yolov5-master\\yolov5_obb-master\\dataset\\DOTAv1.5\\val\\labelTxt\\P0469.txt'.\n",
            "File 'P0471.txt' processed. Content modified in 'E:\\yolov5-master\\yolov5_obb-master\\dataset\\DOTAv1.5\\val\\labelTxt\\P0471.txt'.\n",
            "File 'P0475.txt' processed. Content modified in 'E:\\yolov5-master\\yolov5_obb-master\\dataset\\DOTAv1.5\\val\\labelTxt\\P0475.txt'.\n",
            "File 'P0477.txt' processed. Content modified in 'E:\\yolov5-master\\yolov5_obb-master\\dataset\\DOTAv1.5\\val\\labelTxt\\P0477.txt'.\n",
            "File 'P0478.txt' processed. Content modified in 'E:\\yolov5-master\\yolov5_obb-master\\dataset\\DOTAv1.5\\val\\labelTxt\\P0478.txt'.\n",
            "File 'P0479.txt' processed. Content modified in 'E:\\yolov5-master\\yolov5_obb-master\\dataset\\DOTAv1.5\\val\\labelTxt\\P0479.txt'.\n",
            "File 'P0481.txt' processed. Content modified in 'E:\\yolov5-master\\yolov5_obb-master\\dataset\\DOTAv1.5\\val\\labelTxt\\P0481.txt'.\n",
            "File 'P0482.txt' processed. Content modified in 'E:\\yolov5-master\\yolov5_obb-master\\dataset\\DOTAv1.5\\val\\labelTxt\\P0482.txt'.\n",
            "File 'P0483.txt' processed. Content modified in 'E:\\yolov5-master\\yolov5_obb-master\\dataset\\DOTAv1.5\\val\\labelTxt\\P0483.txt'.\n",
            "File 'P0484.txt' processed. Content modified in 'E:\\yolov5-master\\yolov5_obb-master\\dataset\\DOTAv1.5\\val\\labelTxt\\P0484.txt'.\n",
            "File 'P0487.txt' processed. Content modified in 'E:\\yolov5-master\\yolov5_obb-master\\dataset\\DOTAv1.5\\val\\labelTxt\\P0487.txt'.\n",
            "File 'P0488.txt' processed. Content modified in 'E:\\yolov5-master\\yolov5_obb-master\\dataset\\DOTAv1.5\\val\\labelTxt\\P0488.txt'.\n",
            "File 'P0489.txt' processed. Content modified in 'E:\\yolov5-master\\yolov5_obb-master\\dataset\\DOTAv1.5\\val\\labelTxt\\P0489.txt'.\n",
            "File 'P0493.txt' processed. Content modified in 'E:\\yolov5-master\\yolov5_obb-master\\dataset\\DOTAv1.5\\val\\labelTxt\\P0493.txt'.\n",
            "File 'P0494.txt' processed. Content modified in 'E:\\yolov5-master\\yolov5_obb-master\\dataset\\DOTAv1.5\\val\\labelTxt\\P0494.txt'.\n",
            "File 'P0495.txt' processed. Content modified in 'E:\\yolov5-master\\yolov5_obb-master\\dataset\\DOTAv1.5\\val\\labelTxt\\P0495.txt'.\n",
            "File 'P0503.txt' processed. Content modified in 'E:\\yolov5-master\\yolov5_obb-master\\dataset\\DOTAv1.5\\val\\labelTxt\\P0503.txt'.\n",
            "File 'P0504.txt' processed. Content modified in 'E:\\yolov5-master\\yolov5_obb-master\\dataset\\DOTAv1.5\\val\\labelTxt\\P0504.txt'.\n",
            "File 'P0505.txt' processed. Content modified in 'E:\\yolov5-master\\yolov5_obb-master\\dataset\\DOTAv1.5\\val\\labelTxt\\P0505.txt'.\n",
            "File 'P0510.txt' processed. Content modified in 'E:\\yolov5-master\\yolov5_obb-master\\dataset\\DOTAv1.5\\val\\labelTxt\\P0510.txt'.\n",
            "File 'P0512.txt' processed. Content modified in 'E:\\yolov5-master\\yolov5_obb-master\\dataset\\DOTAv1.5\\val\\labelTxt\\P0512.txt'.\n",
            "File 'P0516.txt' processed. Content modified in 'E:\\yolov5-master\\yolov5_obb-master\\dataset\\DOTAv1.5\\val\\labelTxt\\P0516.txt'.\n",
            "File 'P0517.txt' processed. Content modified in 'E:\\yolov5-master\\yolov5_obb-master\\dataset\\DOTAv1.5\\val\\labelTxt\\P0517.txt'.\n",
            "File 'P0520.txt' processed. Content modified in 'E:\\yolov5-master\\yolov5_obb-master\\dataset\\DOTAv1.5\\val\\labelTxt\\P0520.txt'.\n",
            "File 'P0521.txt' processed. Content modified in 'E:\\yolov5-master\\yolov5_obb-master\\dataset\\DOTAv1.5\\val\\labelTxt\\P0521.txt'.\n",
            "File 'P0522.txt' processed. Content modified in 'E:\\yolov5-master\\yolov5_obb-master\\dataset\\DOTAv1.5\\val\\labelTxt\\P0522.txt'.\n",
            "File 'P0527.txt' processed. Content modified in 'E:\\yolov5-master\\yolov5_obb-master\\dataset\\DOTAv1.5\\val\\labelTxt\\P0527.txt'.\n",
            "File 'P0531.txt' processed. Content modified in 'E:\\yolov5-master\\yolov5_obb-master\\dataset\\DOTAv1.5\\val\\labelTxt\\P0531.txt'.\n",
            "File 'P0533.txt' processed. Content modified in 'E:\\yolov5-master\\yolov5_obb-master\\dataset\\DOTAv1.5\\val\\labelTxt\\P0533.txt'.\n",
            "File 'P0535.txt' processed. Content modified in 'E:\\yolov5-master\\yolov5_obb-master\\dataset\\DOTAv1.5\\val\\labelTxt\\P0535.txt'.\n",
            "File 'P0537.txt' processed. Content modified in 'E:\\yolov5-master\\yolov5_obb-master\\dataset\\DOTAv1.5\\val\\labelTxt\\P0537.txt'.\n",
            "File 'P0538.txt' processed. Content modified in 'E:\\yolov5-master\\yolov5_obb-master\\dataset\\DOTAv1.5\\val\\labelTxt\\P0538.txt'.\n",
            "File 'P0541.txt' processed. Content modified in 'E:\\yolov5-master\\yolov5_obb-master\\dataset\\DOTAv1.5\\val\\labelTxt\\P0541.txt'.\n",
            "File 'P0542.txt' processed. Content modified in 'E:\\yolov5-master\\yolov5_obb-master\\dataset\\DOTAv1.5\\val\\labelTxt\\P0542.txt'.\n",
            "File 'P0544.txt' processed. Content modified in 'E:\\yolov5-master\\yolov5_obb-master\\dataset\\DOTAv1.5\\val\\labelTxt\\P0544.txt'.\n",
            "File 'P0546.txt' processed. Content modified in 'E:\\yolov5-master\\yolov5_obb-master\\dataset\\DOTAv1.5\\val\\labelTxt\\P0546.txt'.\n",
            "File 'P0548.txt' processed. Content modified in 'E:\\yolov5-master\\yolov5_obb-master\\dataset\\DOTAv1.5\\val\\labelTxt\\P0548.txt'.\n",
            "File 'P0549.txt' processed. Content modified in 'E:\\yolov5-master\\yolov5_obb-master\\dataset\\DOTAv1.5\\val\\labelTxt\\P0549.txt'.\n",
            "File 'P0553.txt' processed. Content modified in 'E:\\yolov5-master\\yolov5_obb-master\\dataset\\DOTAv1.5\\val\\labelTxt\\P0553.txt'.\n",
            "File 'P0554.txt' processed. Content modified in 'E:\\yolov5-master\\yolov5_obb-master\\dataset\\DOTAv1.5\\val\\labelTxt\\P0554.txt'.\n",
            "File 'P0555.txt' processed. Content modified in 'E:\\yolov5-master\\yolov5_obb-master\\dataset\\DOTAv1.5\\val\\labelTxt\\P0555.txt'.\n",
            "File 'P0556.txt' processed. Content modified in 'E:\\yolov5-master\\yolov5_obb-master\\dataset\\DOTAv1.5\\val\\labelTxt\\P0556.txt'.\n",
            "File 'P0562.txt' processed. Content modified in 'E:\\yolov5-master\\yolov5_obb-master\\dataset\\DOTAv1.5\\val\\labelTxt\\P0562.txt'.\n",
            "File 'P0563.txt' processed. Content modified in 'E:\\yolov5-master\\yolov5_obb-master\\dataset\\DOTAv1.5\\val\\labelTxt\\P0563.txt'.\n",
            "File 'P0565.txt' processed. Content modified in 'E:\\yolov5-master\\yolov5_obb-master\\dataset\\DOTAv1.5\\val\\labelTxt\\P0565.txt'.\n",
            "File 'P0567.txt' processed. Content modified in 'E:\\yolov5-master\\yolov5_obb-master\\dataset\\DOTAv1.5\\val\\labelTxt\\P0567.txt'.\n",
            "File 'P0568.txt' processed. Content modified in 'E:\\yolov5-master\\yolov5_obb-master\\dataset\\DOTAv1.5\\val\\labelTxt\\P0568.txt'.\n",
            "File 'P0569.txt' processed. Content modified in 'E:\\yolov5-master\\yolov5_obb-master\\dataset\\DOTAv1.5\\val\\labelTxt\\P0569.txt'.\n",
            "File 'P0571.txt' processed. Content modified in 'E:\\yolov5-master\\yolov5_obb-master\\dataset\\DOTAv1.5\\val\\labelTxt\\P0571.txt'.\n",
            "File 'P0572.txt' processed. Content modified in 'E:\\yolov5-master\\yolov5_obb-master\\dataset\\DOTAv1.5\\val\\labelTxt\\P0572.txt'.\n",
            "File 'P0573.txt' processed. Content modified in 'E:\\yolov5-master\\yolov5_obb-master\\dataset\\DOTAv1.5\\val\\labelTxt\\P0573.txt'.\n",
            "File 'P0578.txt' processed. Content modified in 'E:\\yolov5-master\\yolov5_obb-master\\dataset\\DOTAv1.5\\val\\labelTxt\\P0578.txt'.\n",
            "File 'P0580.txt' processed. Content modified in 'E:\\yolov5-master\\yolov5_obb-master\\dataset\\DOTAv1.5\\val\\labelTxt\\P0580.txt'.\n",
            "File 'P0581.txt' processed. Content modified in 'E:\\yolov5-master\\yolov5_obb-master\\dataset\\DOTAv1.5\\val\\labelTxt\\P0581.txt'.\n",
            "File 'P0582.txt' processed. Content modified in 'E:\\yolov5-master\\yolov5_obb-master\\dataset\\DOTAv1.5\\val\\labelTxt\\P0582.txt'.\n",
            "File 'P0586.txt' processed. Content modified in 'E:\\yolov5-master\\yolov5_obb-master\\dataset\\DOTAv1.5\\val\\labelTxt\\P0586.txt'.\n",
            "File 'P0587.txt' processed. Content modified in 'E:\\yolov5-master\\yolov5_obb-master\\dataset\\DOTAv1.5\\val\\labelTxt\\P0587.txt'.\n",
            "File 'P0591.txt' processed. Content modified in 'E:\\yolov5-master\\yolov5_obb-master\\dataset\\DOTAv1.5\\val\\labelTxt\\P0591.txt'.\n",
            "File 'P0593.txt' processed. Content modified in 'E:\\yolov5-master\\yolov5_obb-master\\dataset\\DOTAv1.5\\val\\labelTxt\\P0593.txt'.\n",
            "File 'P0595.txt' processed. Content modified in 'E:\\yolov5-master\\yolov5_obb-master\\dataset\\DOTAv1.5\\val\\labelTxt\\P0595.txt'.\n",
            "File 'P0596.txt' processed. Content modified in 'E:\\yolov5-master\\yolov5_obb-master\\dataset\\DOTAv1.5\\val\\labelTxt\\P0596.txt'.\n",
            "File 'P0597.txt' processed. Content modified in 'E:\\yolov5-master\\yolov5_obb-master\\dataset\\DOTAv1.5\\val\\labelTxt\\P0597.txt'.\n",
            "File 'P0601.txt' processed. Content modified in 'E:\\yolov5-master\\yolov5_obb-master\\dataset\\DOTAv1.5\\val\\labelTxt\\P0601.txt'.\n",
            "File 'P0602.txt' processed. Content modified in 'E:\\yolov5-master\\yolov5_obb-master\\dataset\\DOTAv1.5\\val\\labelTxt\\P0602.txt'.\n",
            "File 'P0603.txt' processed. Content modified in 'E:\\yolov5-master\\yolov5_obb-master\\dataset\\DOTAv1.5\\val\\labelTxt\\P0603.txt'.\n",
            "File 'P0605.txt' processed. Content modified in 'E:\\yolov5-master\\yolov5_obb-master\\dataset\\DOTAv1.5\\val\\labelTxt\\P0605.txt'.\n",
            "File 'P0607.txt' processed. Content modified in 'E:\\yolov5-master\\yolov5_obb-master\\dataset\\DOTAv1.5\\val\\labelTxt\\P0607.txt'.\n",
            "File 'P0609.txt' processed. Content modified in 'E:\\yolov5-master\\yolov5_obb-master\\dataset\\DOTAv1.5\\val\\labelTxt\\P0609.txt'.\n",
            "File 'P0610.txt' processed. Content modified in 'E:\\yolov5-master\\yolov5_obb-master\\dataset\\DOTAv1.5\\val\\labelTxt\\P0610.txt'.\n",
            "File 'P0611.txt' processed. Content modified in 'E:\\yolov5-master\\yolov5_obb-master\\dataset\\DOTAv1.5\\val\\labelTxt\\P0611.txt'.\n",
            "File 'P0612.txt' processed. Content modified in 'E:\\yolov5-master\\yolov5_obb-master\\dataset\\DOTAv1.5\\val\\labelTxt\\P0612.txt'.\n",
            "File 'P0614.txt' processed. Content modified in 'E:\\yolov5-master\\yolov5_obb-master\\dataset\\DOTAv1.5\\val\\labelTxt\\P0614.txt'.\n",
            "File 'P0617.txt' processed. Content modified in 'E:\\yolov5-master\\yolov5_obb-master\\dataset\\DOTAv1.5\\val\\labelTxt\\P0617.txt'.\n",
            "File 'P0618.txt' processed. Content modified in 'E:\\yolov5-master\\yolov5_obb-master\\dataset\\DOTAv1.5\\val\\labelTxt\\P0618.txt'.\n",
            "File 'P0619.txt' processed. Content modified in 'E:\\yolov5-master\\yolov5_obb-master\\dataset\\DOTAv1.5\\val\\labelTxt\\P0619.txt'.\n",
            "File 'P0620.txt' processed. Content modified in 'E:\\yolov5-master\\yolov5_obb-master\\dataset\\DOTAv1.5\\val\\labelTxt\\P0620.txt'.\n",
            "File 'P0624.txt' processed. Content modified in 'E:\\yolov5-master\\yolov5_obb-master\\dataset\\DOTAv1.5\\val\\labelTxt\\P0624.txt'.\n",
            "File 'P0625.txt' processed. Content modified in 'E:\\yolov5-master\\yolov5_obb-master\\dataset\\DOTAv1.5\\val\\labelTxt\\P0625.txt'.\n",
            "File 'P0626.txt' processed. Content modified in 'E:\\yolov5-master\\yolov5_obb-master\\dataset\\DOTAv1.5\\val\\labelTxt\\P0626.txt'.\n",
            "File 'P0627.txt' processed. Content modified in 'E:\\yolov5-master\\yolov5_obb-master\\dataset\\DOTAv1.5\\val\\labelTxt\\P0627.txt'.\n",
            "File 'P0629.txt' processed. Content modified in 'E:\\yolov5-master\\yolov5_obb-master\\dataset\\DOTAv1.5\\val\\labelTxt\\P0629.txt'.\n",
            "File 'P0630.txt' processed. Content modified in 'E:\\yolov5-master\\yolov5_obb-master\\dataset\\DOTAv1.5\\val\\labelTxt\\P0630.txt'.\n",
            "File 'P0631.txt' processed. Content modified in 'E:\\yolov5-master\\yolov5_obb-master\\dataset\\DOTAv1.5\\val\\labelTxt\\P0631.txt'.\n",
            "File 'P0632.txt' processed. Content modified in 'E:\\yolov5-master\\yolov5_obb-master\\dataset\\DOTAv1.5\\val\\labelTxt\\P0632.txt'.\n",
            "File 'P0634.txt' processed. Content modified in 'E:\\yolov5-master\\yolov5_obb-master\\dataset\\DOTAv1.5\\val\\labelTxt\\P0634.txt'.\n",
            "File 'P0637.txt' processed. Content modified in 'E:\\yolov5-master\\yolov5_obb-master\\dataset\\DOTAv1.5\\val\\labelTxt\\P0637.txt'.\n",
            "File 'P0638.txt' processed. Content modified in 'E:\\yolov5-master\\yolov5_obb-master\\dataset\\DOTAv1.5\\val\\labelTxt\\P0638.txt'.\n",
            "File 'P0641.txt' processed. Content modified in 'E:\\yolov5-master\\yolov5_obb-master\\dataset\\DOTAv1.5\\val\\labelTxt\\P0641.txt'.\n",
            "File 'P0642.txt' processed. Content modified in 'E:\\yolov5-master\\yolov5_obb-master\\dataset\\DOTAv1.5\\val\\labelTxt\\P0642.txt'.\n",
            "File 'P0646.txt' processed. Content modified in 'E:\\yolov5-master\\yolov5_obb-master\\dataset\\DOTAv1.5\\val\\labelTxt\\P0646.txt'.\n",
            "File 'P0648.txt' processed. Content modified in 'E:\\yolov5-master\\yolov5_obb-master\\dataset\\DOTAv1.5\\val\\labelTxt\\P0648.txt'.\n",
            "File 'P0649.txt' processed. Content modified in 'E:\\yolov5-master\\yolov5_obb-master\\dataset\\DOTAv1.5\\val\\labelTxt\\P0649.txt'.\n",
            "File 'P0652.txt' processed. Content modified in 'E:\\yolov5-master\\yolov5_obb-master\\dataset\\DOTAv1.5\\val\\labelTxt\\P0652.txt'.\n",
            "File 'P0653.txt' processed. Content modified in 'E:\\yolov5-master\\yolov5_obb-master\\dataset\\DOTAv1.5\\val\\labelTxt\\P0653.txt'.\n",
            "File 'P0656.txt' processed. Content modified in 'E:\\yolov5-master\\yolov5_obb-master\\dataset\\DOTAv1.5\\val\\labelTxt\\P0656.txt'.\n",
            "File 'P0658.txt' processed. Content modified in 'E:\\yolov5-master\\yolov5_obb-master\\dataset\\DOTAv1.5\\val\\labelTxt\\P0658.txt'.\n",
            "File 'P0664.txt' processed. Content modified in 'E:\\yolov5-master\\yolov5_obb-master\\dataset\\DOTAv1.5\\val\\labelTxt\\P0664.txt'.\n",
            "File 'P0666.txt' processed. Content modified in 'E:\\yolov5-master\\yolov5_obb-master\\dataset\\DOTAv1.5\\val\\labelTxt\\P0666.txt'.\n",
            "File 'P0668.txt' processed. Content modified in 'E:\\yolov5-master\\yolov5_obb-master\\dataset\\DOTAv1.5\\val\\labelTxt\\P0668.txt'.\n",
            "File 'P0676.txt' processed. Content modified in 'E:\\yolov5-master\\yolov5_obb-master\\dataset\\DOTAv1.5\\val\\labelTxt\\P0676.txt'.\n",
            "File 'P0677.txt' processed. Content modified in 'E:\\yolov5-master\\yolov5_obb-master\\dataset\\DOTAv1.5\\val\\labelTxt\\P0677.txt'.\n",
            "File 'P0685.txt' processed. Content modified in 'E:\\yolov5-master\\yolov5_obb-master\\dataset\\DOTAv1.5\\val\\labelTxt\\P0685.txt'.\n",
            "File 'P0687.txt' processed. Content modified in 'E:\\yolov5-master\\yolov5_obb-master\\dataset\\DOTAv1.5\\val\\labelTxt\\P0687.txt'.\n",
            "File 'P0688.txt' processed. Content modified in 'E:\\yolov5-master\\yolov5_obb-master\\dataset\\DOTAv1.5\\val\\labelTxt\\P0688.txt'.\n",
            "File 'P0689.txt' processed. Content modified in 'E:\\yolov5-master\\yolov5_obb-master\\dataset\\DOTAv1.5\\val\\labelTxt\\P0689.txt'.\n",
            "File 'P0691.txt' processed. Content modified in 'E:\\yolov5-master\\yolov5_obb-master\\dataset\\DOTAv1.5\\val\\labelTxt\\P0691.txt'.\n",
            "File 'P0692.txt' processed. Content modified in 'E:\\yolov5-master\\yolov5_obb-master\\dataset\\DOTAv1.5\\val\\labelTxt\\P0692.txt'.\n",
            "File 'P0693.txt' processed. Content modified in 'E:\\yolov5-master\\yolov5_obb-master\\dataset\\DOTAv1.5\\val\\labelTxt\\P0693.txt'.\n",
            "File 'P0695.txt' processed. Content modified in 'E:\\yolov5-master\\yolov5_obb-master\\dataset\\DOTAv1.5\\val\\labelTxt\\P0695.txt'.\n",
            "File 'P0697.txt' processed. Content modified in 'E:\\yolov5-master\\yolov5_obb-master\\dataset\\DOTAv1.5\\val\\labelTxt\\P0697.txt'.\n",
            "File 'P0699.txt' processed. Content modified in 'E:\\yolov5-master\\yolov5_obb-master\\dataset\\DOTAv1.5\\val\\labelTxt\\P0699.txt'.\n",
            "File 'P0700.txt' processed. Content modified in 'E:\\yolov5-master\\yolov5_obb-master\\dataset\\DOTAv1.5\\val\\labelTxt\\P0700.txt'.\n",
            "File 'P0702.txt' processed. Content modified in 'E:\\yolov5-master\\yolov5_obb-master\\dataset\\DOTAv1.5\\val\\labelTxt\\P0702.txt'.\n",
            "File 'P0703.txt' processed. Content modified in 'E:\\yolov5-master\\yolov5_obb-master\\dataset\\DOTAv1.5\\val\\labelTxt\\P0703.txt'.\n",
            "File 'P0707.txt' processed. Content modified in 'E:\\yolov5-master\\yolov5_obb-master\\dataset\\DOTAv1.5\\val\\labelTxt\\P0707.txt'.\n",
            "File 'P0711.txt' processed. Content modified in 'E:\\yolov5-master\\yolov5_obb-master\\dataset\\DOTAv1.5\\val\\labelTxt\\P0711.txt'.\n",
            "File 'P0713.txt' processed. Content modified in 'E:\\yolov5-master\\yolov5_obb-master\\dataset\\DOTAv1.5\\val\\labelTxt\\P0713.txt'.\n",
            "File 'P0714.txt' processed. Content modified in 'E:\\yolov5-master\\yolov5_obb-master\\dataset\\DOTAv1.5\\val\\labelTxt\\P0714.txt'.\n",
            "File 'P0716.txt' processed. Content modified in 'E:\\yolov5-master\\yolov5_obb-master\\dataset\\DOTAv1.5\\val\\labelTxt\\P0716.txt'.\n",
            "File 'P0719.txt' processed. Content modified in 'E:\\yolov5-master\\yolov5_obb-master\\dataset\\DOTAv1.5\\val\\labelTxt\\P0719.txt'.\n",
            "File 'P0722.txt' processed. Content modified in 'E:\\yolov5-master\\yolov5_obb-master\\dataset\\DOTAv1.5\\val\\labelTxt\\P0722.txt'.\n",
            "File 'P0723.txt' processed. Content modified in 'E:\\yolov5-master\\yolov5_obb-master\\dataset\\DOTAv1.5\\val\\labelTxt\\P0723.txt'.\n",
            "File 'P0724.txt' processed. Content modified in 'E:\\yolov5-master\\yolov5_obb-master\\dataset\\DOTAv1.5\\val\\labelTxt\\P0724.txt'.\n",
            "File 'P0726.txt' processed. Content modified in 'E:\\yolov5-master\\yolov5_obb-master\\dataset\\DOTAv1.5\\val\\labelTxt\\P0726.txt'.\n",
            "File 'P0727.txt' processed. Content modified in 'E:\\yolov5-master\\yolov5_obb-master\\dataset\\DOTAv1.5\\val\\labelTxt\\P0727.txt'.\n",
            "File 'P0728.txt' processed. Content modified in 'E:\\yolov5-master\\yolov5_obb-master\\dataset\\DOTAv1.5\\val\\labelTxt\\P0728.txt'.\n",
            "File 'P0730.txt' processed. Content modified in 'E:\\yolov5-master\\yolov5_obb-master\\dataset\\DOTAv1.5\\val\\labelTxt\\P0730.txt'.\n",
            "File 'P0731.txt' processed. Content modified in 'E:\\yolov5-master\\yolov5_obb-master\\dataset\\DOTAv1.5\\val\\labelTxt\\P0731.txt'.\n",
            "File 'P0732.txt' processed. Content modified in 'E:\\yolov5-master\\yolov5_obb-master\\dataset\\DOTAv1.5\\val\\labelTxt\\P0732.txt'.\n",
            "File 'P0733.txt' processed. Content modified in 'E:\\yolov5-master\\yolov5_obb-master\\dataset\\DOTAv1.5\\val\\labelTxt\\P0733.txt'.\n",
            "File 'P0734.txt' processed. Content modified in 'E:\\yolov5-master\\yolov5_obb-master\\dataset\\DOTAv1.5\\val\\labelTxt\\P0734.txt'.\n",
            "File 'P0737.txt' processed. Content modified in 'E:\\yolov5-master\\yolov5_obb-master\\dataset\\DOTAv1.5\\val\\labelTxt\\P0737.txt'.\n",
            "File 'P0738.txt' processed. Content modified in 'E:\\yolov5-master\\yolov5_obb-master\\dataset\\DOTAv1.5\\val\\labelTxt\\P0738.txt'.\n",
            "File 'P0743.txt' processed. Content modified in 'E:\\yolov5-master\\yolov5_obb-master\\dataset\\DOTAv1.5\\val\\labelTxt\\P0743.txt'.\n",
            "File 'P0744.txt' processed. Content modified in 'E:\\yolov5-master\\yolov5_obb-master\\dataset\\DOTAv1.5\\val\\labelTxt\\P0744.txt'.\n",
            "File 'P0745.txt' processed. Content modified in 'E:\\yolov5-master\\yolov5_obb-master\\dataset\\DOTAv1.5\\val\\labelTxt\\P0745.txt'.\n",
            "File 'P0746.txt' processed. Content modified in 'E:\\yolov5-master\\yolov5_obb-master\\dataset\\DOTAv1.5\\val\\labelTxt\\P0746.txt'.\n",
            "File 'P0750.txt' processed. Content modified in 'E:\\yolov5-master\\yolov5_obb-master\\dataset\\DOTAv1.5\\val\\labelTxt\\P0750.txt'.\n",
            "File 'P0753.txt' processed. Content modified in 'E:\\yolov5-master\\yolov5_obb-master\\dataset\\DOTAv1.5\\val\\labelTxt\\P0753.txt'.\n",
            "File 'P0754.txt' processed. Content modified in 'E:\\yolov5-master\\yolov5_obb-master\\dataset\\DOTAv1.5\\val\\labelTxt\\P0754.txt'.\n",
            "File 'P0755.txt' processed. Content modified in 'E:\\yolov5-master\\yolov5_obb-master\\dataset\\DOTAv1.5\\val\\labelTxt\\P0755.txt'.\n",
            "File 'P0757.txt' processed. Content modified in 'E:\\yolov5-master\\yolov5_obb-master\\dataset\\DOTAv1.5\\val\\labelTxt\\P0757.txt'.\n",
            "File 'P0759.txt' processed. Content modified in 'E:\\yolov5-master\\yolov5_obb-master\\dataset\\DOTAv1.5\\val\\labelTxt\\P0759.txt'.\n",
            "File 'P0760.txt' processed. Content modified in 'E:\\yolov5-master\\yolov5_obb-master\\dataset\\DOTAv1.5\\val\\labelTxt\\P0760.txt'.\n",
            "File 'P0762.txt' processed. Content modified in 'E:\\yolov5-master\\yolov5_obb-master\\dataset\\DOTAv1.5\\val\\labelTxt\\P0762.txt'.\n",
            "File 'P0766.txt' processed. Content modified in 'E:\\yolov5-master\\yolov5_obb-master\\dataset\\DOTAv1.5\\val\\labelTxt\\P0766.txt'.\n",
            "File 'P0768.txt' processed. Content modified in 'E:\\yolov5-master\\yolov5_obb-master\\dataset\\DOTAv1.5\\val\\labelTxt\\P0768.txt'.\n",
            "File 'P0769.txt' processed. Content modified in 'E:\\yolov5-master\\yolov5_obb-master\\dataset\\DOTAv1.5\\val\\labelTxt\\P0769.txt'.\n",
            "File 'P0775.txt' processed. Content modified in 'E:\\yolov5-master\\yolov5_obb-master\\dataset\\DOTAv1.5\\val\\labelTxt\\P0775.txt'.\n",
            "File 'P0777.txt' processed. Content modified in 'E:\\yolov5-master\\yolov5_obb-master\\dataset\\DOTAv1.5\\val\\labelTxt\\P0777.txt'.\n",
            "File 'P0778.txt' processed. Content modified in 'E:\\yolov5-master\\yolov5_obb-master\\dataset\\DOTAv1.5\\val\\labelTxt\\P0778.txt'.\n",
            "File 'P0779.txt' processed. Content modified in 'E:\\yolov5-master\\yolov5_obb-master\\dataset\\DOTAv1.5\\val\\labelTxt\\P0779.txt'.\n",
            "File 'P0780.txt' processed. Content modified in 'E:\\yolov5-master\\yolov5_obb-master\\dataset\\DOTAv1.5\\val\\labelTxt\\P0780.txt'.\n",
            "File 'P0781.txt' processed. Content modified in 'E:\\yolov5-master\\yolov5_obb-master\\dataset\\DOTAv1.5\\val\\labelTxt\\P0781.txt'.\n",
            "File 'P0782.txt' processed. Content modified in 'E:\\yolov5-master\\yolov5_obb-master\\dataset\\DOTAv1.5\\val\\labelTxt\\P0782.txt'.\n",
            "File 'P0783.txt' processed. Content modified in 'E:\\yolov5-master\\yolov5_obb-master\\dataset\\DOTAv1.5\\val\\labelTxt\\P0783.txt'.\n",
            "File 'P0785.txt' processed. Content modified in 'E:\\yolov5-master\\yolov5_obb-master\\dataset\\DOTAv1.5\\val\\labelTxt\\P0785.txt'.\n",
            "File 'P0786.txt' processed. Content modified in 'E:\\yolov5-master\\yolov5_obb-master\\dataset\\DOTAv1.5\\val\\labelTxt\\P0786.txt'.\n",
            "File 'P0790.txt' processed. Content modified in 'E:\\yolov5-master\\yolov5_obb-master\\dataset\\DOTAv1.5\\val\\labelTxt\\P0790.txt'.\n",
            "File 'P0792.txt' processed. Content modified in 'E:\\yolov5-master\\yolov5_obb-master\\dataset\\DOTAv1.5\\val\\labelTxt\\P0792.txt'.\n",
            "File 'P0794.txt' processed. Content modified in 'E:\\yolov5-master\\yolov5_obb-master\\dataset\\DOTAv1.5\\val\\labelTxt\\P0794.txt'.\n",
            "File 'P0800.txt' processed. Content modified in 'E:\\yolov5-master\\yolov5_obb-master\\dataset\\DOTAv1.5\\val\\labelTxt\\P0800.txt'.\n",
            "File 'P0803.txt' processed. Content modified in 'E:\\yolov5-master\\yolov5_obb-master\\dataset\\DOTAv1.5\\val\\labelTxt\\P0803.txt'.\n",
            "File 'P0804.txt' processed. Content modified in 'E:\\yolov5-master\\yolov5_obb-master\\dataset\\DOTAv1.5\\val\\labelTxt\\P0804.txt'.\n",
            "File 'P0805.txt' processed. Content modified in 'E:\\yolov5-master\\yolov5_obb-master\\dataset\\DOTAv1.5\\val\\labelTxt\\P0805.txt'.\n",
            "File 'P0806.txt' processed. Content modified in 'E:\\yolov5-master\\yolov5_obb-master\\dataset\\DOTAv1.5\\val\\labelTxt\\P0806.txt'.\n",
            "File 'P0809.txt' processed. Content modified in 'E:\\yolov5-master\\yolov5_obb-master\\dataset\\DOTAv1.5\\val\\labelTxt\\P0809.txt'.\n",
            "File 'P0810.txt' processed. Content modified in 'E:\\yolov5-master\\yolov5_obb-master\\dataset\\DOTAv1.5\\val\\labelTxt\\P0810.txt'.\n",
            "File 'P0817.txt' processed. Content modified in 'E:\\yolov5-master\\yolov5_obb-master\\dataset\\DOTAv1.5\\val\\labelTxt\\P0817.txt'.\n",
            "File 'P0818.txt' processed. Content modified in 'E:\\yolov5-master\\yolov5_obb-master\\dataset\\DOTAv1.5\\val\\labelTxt\\P0818.txt'.\n",
            "File 'P0819.txt' processed. Content modified in 'E:\\yolov5-master\\yolov5_obb-master\\dataset\\DOTAv1.5\\val\\labelTxt\\P0819.txt'.\n",
            "File 'P0821.txt' processed. Content modified in 'E:\\yolov5-master\\yolov5_obb-master\\dataset\\DOTAv1.5\\val\\labelTxt\\P0821.txt'.\n",
            "File 'P0823.txt' processed. Content modified in 'E:\\yolov5-master\\yolov5_obb-master\\dataset\\DOTAv1.5\\val\\labelTxt\\P0823.txt'.\n",
            "File 'P0825.txt' processed. Content modified in 'E:\\yolov5-master\\yolov5_obb-master\\dataset\\DOTAv1.5\\val\\labelTxt\\P0825.txt'.\n",
            "File 'P0826.txt' processed. Content modified in 'E:\\yolov5-master\\yolov5_obb-master\\dataset\\DOTAv1.5\\val\\labelTxt\\P0826.txt'.\n",
            "File 'P0827.txt' processed. Content modified in 'E:\\yolov5-master\\yolov5_obb-master\\dataset\\DOTAv1.5\\val\\labelTxt\\P0827.txt'.\n",
            "File 'P0828.txt' processed. Content modified in 'E:\\yolov5-master\\yolov5_obb-master\\dataset\\DOTAv1.5\\val\\labelTxt\\P0828.txt'.\n",
            "File 'P0829.txt' processed. Content modified in 'E:\\yolov5-master\\yolov5_obb-master\\dataset\\DOTAv1.5\\val\\labelTxt\\P0829.txt'.\n",
            "File 'P0831.txt' processed. Content modified in 'E:\\yolov5-master\\yolov5_obb-master\\dataset\\DOTAv1.5\\val\\labelTxt\\P0831.txt'.\n",
            "File 'P0832.txt' processed. Content modified in 'E:\\yolov5-master\\yolov5_obb-master\\dataset\\DOTAv1.5\\val\\labelTxt\\P0832.txt'.\n",
            "File 'P0835.txt' processed. Content modified in 'E:\\yolov5-master\\yolov5_obb-master\\dataset\\DOTAv1.5\\val\\labelTxt\\P0835.txt'.\n",
            "File 'P0840.txt' processed. Content modified in 'E:\\yolov5-master\\yolov5_obb-master\\dataset\\DOTAv1.5\\val\\labelTxt\\P0840.txt'.\n",
            "File 'P0843.txt' processed. Content modified in 'E:\\yolov5-master\\yolov5_obb-master\\dataset\\DOTAv1.5\\val\\labelTxt\\P0843.txt'.\n",
            "File 'P0845.txt' processed. Content modified in 'E:\\yolov5-master\\yolov5_obb-master\\dataset\\DOTAv1.5\\val\\labelTxt\\P0845.txt'.\n",
            "File 'P0846.txt' processed. Content modified in 'E:\\yolov5-master\\yolov5_obb-master\\dataset\\DOTAv1.5\\val\\labelTxt\\P0846.txt'.\n",
            "File 'P0848.txt' processed. Content modified in 'E:\\yolov5-master\\yolov5_obb-master\\dataset\\DOTAv1.5\\val\\labelTxt\\P0848.txt'.\n",
            "File 'P0849.txt' processed. Content modified in 'E:\\yolov5-master\\yolov5_obb-master\\dataset\\DOTAv1.5\\val\\labelTxt\\P0849.txt'.\n",
            "File 'P0850.txt' processed. Content modified in 'E:\\yolov5-master\\yolov5_obb-master\\dataset\\DOTAv1.5\\val\\labelTxt\\P0850.txt'.\n",
            "File 'P0851.txt' processed. Content modified in 'E:\\yolov5-master\\yolov5_obb-master\\dataset\\DOTAv1.5\\val\\labelTxt\\P0851.txt'.\n",
            "File 'P0853.txt' processed. Content modified in 'E:\\yolov5-master\\yolov5_obb-master\\dataset\\DOTAv1.5\\val\\labelTxt\\P0853.txt'.\n",
            "File 'P0855.txt' processed. Content modified in 'E:\\yolov5-master\\yolov5_obb-master\\dataset\\DOTAv1.5\\val\\labelTxt\\P0855.txt'.\n",
            "File 'P0856.txt' processed. Content modified in 'E:\\yolov5-master\\yolov5_obb-master\\dataset\\DOTAv1.5\\val\\labelTxt\\P0856.txt'.\n",
            "File 'P0857.txt' processed. Content modified in 'E:\\yolov5-master\\yolov5_obb-master\\dataset\\DOTAv1.5\\val\\labelTxt\\P0857.txt'.\n",
            "File 'P0860.txt' processed. Content modified in 'E:\\yolov5-master\\yolov5_obb-master\\dataset\\DOTAv1.5\\val\\labelTxt\\P0860.txt'.\n",
            "File 'P0861.txt' processed. Content modified in 'E:\\yolov5-master\\yolov5_obb-master\\dataset\\DOTAv1.5\\val\\labelTxt\\P0861.txt'.\n",
            "File 'P0867.txt' processed. Content modified in 'E:\\yolov5-master\\yolov5_obb-master\\dataset\\DOTAv1.5\\val\\labelTxt\\P0867.txt'.\n",
            "File 'P0868.txt' processed. Content modified in 'E:\\yolov5-master\\yolov5_obb-master\\dataset\\DOTAv1.5\\val\\labelTxt\\P0868.txt'.\n",
            "File 'P0869.txt' processed. Content modified in 'E:\\yolov5-master\\yolov5_obb-master\\dataset\\DOTAv1.5\\val\\labelTxt\\P0869.txt'.\n",
            "File 'P0870.txt' processed. Content modified in 'E:\\yolov5-master\\yolov5_obb-master\\dataset\\DOTAv1.5\\val\\labelTxt\\P0870.txt'.\n",
            "File 'P0871.txt' processed. Content modified in 'E:\\yolov5-master\\yolov5_obb-master\\dataset\\DOTAv1.5\\val\\labelTxt\\P0871.txt'.\n",
            "File 'P0872.txt' processed. Content modified in 'E:\\yolov5-master\\yolov5_obb-master\\dataset\\DOTAv1.5\\val\\labelTxt\\P0872.txt'.\n",
            "File 'P0873.txt' processed. Content modified in 'E:\\yolov5-master\\yolov5_obb-master\\dataset\\DOTAv1.5\\val\\labelTxt\\P0873.txt'.\n",
            "File 'P0874.txt' processed. Content modified in 'E:\\yolov5-master\\yolov5_obb-master\\dataset\\DOTAv1.5\\val\\labelTxt\\P0874.txt'.\n",
            "File 'P0875.txt' processed. Content modified in 'E:\\yolov5-master\\yolov5_obb-master\\dataset\\DOTAv1.5\\val\\labelTxt\\P0875.txt'.\n",
            "File 'P0878.txt' processed. Content modified in 'E:\\yolov5-master\\yolov5_obb-master\\dataset\\DOTAv1.5\\val\\labelTxt\\P0878.txt'.\n",
            "File 'P0879.txt' processed. Content modified in 'E:\\yolov5-master\\yolov5_obb-master\\dataset\\DOTAv1.5\\val\\labelTxt\\P0879.txt'.\n",
            "File 'P0881.txt' processed. Content modified in 'E:\\yolov5-master\\yolov5_obb-master\\dataset\\DOTAv1.5\\val\\labelTxt\\P0881.txt'.\n",
            "File 'P0883.txt' processed. Content modified in 'E:\\yolov5-master\\yolov5_obb-master\\dataset\\DOTAv1.5\\val\\labelTxt\\P0883.txt'.\n",
            "File 'P0884.txt' processed. Content modified in 'E:\\yolov5-master\\yolov5_obb-master\\dataset\\DOTAv1.5\\val\\labelTxt\\P0884.txt'.\n",
            "File 'P0885.txt' processed. Content modified in 'E:\\yolov5-master\\yolov5_obb-master\\dataset\\DOTAv1.5\\val\\labelTxt\\P0885.txt'.\n",
            "File 'P0888.txt' processed. Content modified in 'E:\\yolov5-master\\yolov5_obb-master\\dataset\\DOTAv1.5\\val\\labelTxt\\P0888.txt'.\n",
            "File 'P0890.txt' processed. Content modified in 'E:\\yolov5-master\\yolov5_obb-master\\dataset\\DOTAv1.5\\val\\labelTxt\\P0890.txt'.\n",
            "File 'P0892.txt' processed. Content modified in 'E:\\yolov5-master\\yolov5_obb-master\\dataset\\DOTAv1.5\\val\\labelTxt\\P0892.txt'.\n",
            "File 'P0893.txt' processed. Content modified in 'E:\\yolov5-master\\yolov5_obb-master\\dataset\\DOTAv1.5\\val\\labelTxt\\P0893.txt'.\n",
            "File 'P0894.txt' processed. Content modified in 'E:\\yolov5-master\\yolov5_obb-master\\dataset\\DOTAv1.5\\val\\labelTxt\\P0894.txt'.\n",
            "File 'P0895.txt' processed. Content modified in 'E:\\yolov5-master\\yolov5_obb-master\\dataset\\DOTAv1.5\\val\\labelTxt\\P0895.txt'.\n",
            "File 'P0896.txt' processed. Content modified in 'E:\\yolov5-master\\yolov5_obb-master\\dataset\\DOTAv1.5\\val\\labelTxt\\P0896.txt'.\n",
            "File 'P0898.txt' processed. Content modified in 'E:\\yolov5-master\\yolov5_obb-master\\dataset\\DOTAv1.5\\val\\labelTxt\\P0898.txt'.\n",
            "File 'P0899.txt' processed. Content modified in 'E:\\yolov5-master\\yolov5_obb-master\\dataset\\DOTAv1.5\\val\\labelTxt\\P0899.txt'.\n",
            "File 'P0900.txt' processed. Content modified in 'E:\\yolov5-master\\yolov5_obb-master\\dataset\\DOTAv1.5\\val\\labelTxt\\P0900.txt'.\n",
            "File 'P0905.txt' processed. Content modified in 'E:\\yolov5-master\\yolov5_obb-master\\dataset\\DOTAv1.5\\val\\labelTxt\\P0905.txt'.\n",
            "File 'P0906.txt' processed. Content modified in 'E:\\yolov5-master\\yolov5_obb-master\\dataset\\DOTAv1.5\\val\\labelTxt\\P0906.txt'.\n"
          ]
        }
      ],
      "source": [
        "import os\n",
        "\n",
        "def process_txt_files(folder_path):\n",
        "    # 遍历文件夹内的所有文件\n",
        "    for filename in os.listdir(folder_path):\n",
        "        if filename.endswith(\".txt\"):\n",
        "            file_path = os.path.join(folder_path, filename)\n",
        "            \n",
        "            # 读取文本文件内容\n",
        "            with open(file_path, 'r') as file:\n",
        "                lines = file.readlines()\n",
        "            \n",
        "            # 删除前两行\n",
        "            lines = lines[2:]\n",
        "            \n",
        "            # 写回到原始文件（覆盖原文件内容）\n",
        "            with open(file_path, 'w') as file:\n",
        "                file.writelines(lines)\n",
        "\n",
        "            print(f\"File '{filename}' processed. Content modified in '{file_path}'.\")\n",
        "\n",
        "# 在这里替换为你的文件夹路径\n",
        "folder_path = 'E:\\yolov5-master\\yolov5_obb-master\\dataset\\DOTAv1.5\\\\val\\labelTxt'\n",
        "\n",
        "# 调用函数处理文件夹内的txt文档\n",
        "process_txt_files(folder_path)\n",
        "\n"
      ]
    },
    {
      "cell_type": "markdown",
      "metadata": {
        "id": "4JnkELT0cIJg"
      },
      "source": [
        "# 1. Inference\n",
        "\n",
        "`detect.py` runs YOLOv5 inference on a variety of sources, downloading models automatically from the [latest YOLOv5 release](https://github.com/ultralytics/yolov5/releases), and saving results to `runs/detect`. Example inference sources are:\n",
        "\n",
        "```shell\n",
        "python detect.py --source 0  # webcam\n",
        "                          img.jpg  # image \n",
        "                          vid.mp4  # video\n",
        "                          path/  # directory\n",
        "                          path/*.jpg  # glob\n",
        "                          'https://youtu.be/Zgi9g1ksQHc'  # YouTube\n",
        "                          'rtsp://example.com/media.mp4'  # RTSP, RTMP, HTTP stream\n",
        "```"
      ]
    },
    {
      "cell_type": "code",
      "execution_count": null,
      "metadata": {
        "colab": {
          "base_uri": "https://localhost:8080/"
        },
        "id": "zR9ZbuQCH7FX",
        "outputId": "8f7e6588-215d-4ebd-93af-88b871e770a7"
      },
      "outputs": [
        {
          "name": "stdout",
          "output_type": "stream",
          "text": [
            "\u001b[34m\u001b[1mdetect: \u001b[0mweights=['yolov5s.pt'], source=data/images, imgsz=[640, 640], conf_thres=0.25, iou_thres=0.45, max_det=1000, device=, view_img=False, save_txt=False, save_conf=False, save_crop=False, nosave=False, classes=None, agnostic_nms=False, augment=False, visualize=False, update=False, project=runs/detect, name=exp, exist_ok=False, line_thickness=3, hide_labels=False, hide_conf=False, half=False, dnn=False\n",
            "YOLOv5 🚀 v6.0-48-g84a8099 torch 1.10.0+cu102 CUDA:0 (Tesla V100-SXM2-16GB, 16160MiB)\n",
            "\n",
            "Fusing layers... \n",
            "Model Summary: 213 layers, 7225885 parameters, 0 gradients\n",
            "image 1/2 /content/yolov5/data/images/bus.jpg: 640x480 4 persons, 1 bus, Done. (0.007s)\n",
            "image 2/2 /content/yolov5/data/images/zidane.jpg: 384x640 2 persons, 1 tie, Done. (0.007s)\n",
            "Speed: 0.5ms pre-process, 6.9ms inference, 1.3ms NMS per image at shape (1, 3, 640, 640)\n",
            "Results saved to \u001b[1mruns/detect/exp\u001b[0m\n"
          ]
        }
      ],
      "source": [
        "!python detect.py --weights yolov5s.pt --img 640 --conf 0.25 --source data/images\n",
        "display.Image(filename='runs/detect/exp/zidane.jpg', width=600)"
      ]
    },
    {
      "cell_type": "markdown",
      "metadata": {
        "id": "hkAzDWJ7cWTr"
      },
      "source": [
        "&nbsp;&nbsp;&nbsp;&nbsp;&nbsp;&nbsp;&nbsp;&nbsp;\n",
        "<img align=\"left\" src=\"https://user-images.githubusercontent.com/26833433/127574988-6a558aa1-d268-44b9-bf6b-62d4c605cc72.jpg\" width=\"600\">"
      ]
    },
    {
      "cell_type": "code",
      "execution_count": null,
      "metadata": {},
      "outputs": [],
      "source": []
    },
    {
      "cell_type": "markdown",
      "metadata": {
        "id": "0eq1SMWl6Sfn"
      },
      "source": [
        "# 2. Validate\n",
        "Validate a model's accuracy on [COCO](https://cocodataset.org/#home) val or test-dev datasets. Models are downloaded automatically from the [latest YOLOv5 release](https://github.com/ultralytics/yolov5/releases). To show results by class use the `--verbose` flag. Note that `pycocotools` metrics may be ~1% better than the equivalent repo metrics, as is visible below, due to slight differences in mAP computation."
      ]
    },
    {
      "cell_type": "markdown",
      "metadata": {
        "id": "eyTZYGgRjnMc"
      },
      "source": [
        "## COCO val\n",
        "Download [COCO val 2017](https://github.com/ultralytics/yolov5/blob/74b34872fdf41941cddcf243951cdb090fbac17b/data/coco.yaml#L14) dataset (1GB - 5000 images), and test model accuracy."
      ]
    },
    {
      "cell_type": "code",
      "execution_count": null,
      "metadata": {
        "colab": {
          "base_uri": "https://localhost:8080/",
          "height": 48,
          "referenced_widgets": [
            "eb95db7cae194218b3fcefb439b6352f",
            "769ecde6f2e64bacb596ce972f8d3d2d",
            "384a001876054c93b0af45cd1e960bfe",
            "dded0aeae74440f7ba2ffa0beb8dd612",
            "5296d28be75740b2892ae421bbec3657",
            "9f09facb2a6c4a7096810d327c8b551c",
            "25621cff5d16448cb7260e839fd0f543",
            "0ce7164fc0c74bb9a2b5c7037375a727",
            "c4c4593c10904cb5b8a5724d60c7e181",
            "473371611126476c88d5d42ec7031ed6",
            "65efdfd0d26c46e79c8c5ff3b77126cc"
          ]
        },
        "id": "WQPtK1QYVaD_",
        "outputId": "bcf9a448-1f9b-4a41-ad49-12f181faf05a"
      },
      "outputs": [
        {
          "data": {
            "application/vnd.jupyter.widget-view+json": {
              "model_id": "eb95db7cae194218b3fcefb439b6352f",
              "version_major": 2,
              "version_minor": 0
            },
            "text/plain": [
              "  0%|          | 0.00/780M [00:00<?, ?B/s]"
            ]
          },
          "metadata": {},
          "output_type": "display_data"
        }
      ],
      "source": [
        "# Download COCO val\n",
        "torch.hub.download_url_to_file('https://ultralytics.com/assets/coco2017val.zip', 'tmp.zip')\n",
        "!unzip -q tmp.zip -d ../datasets && rm tmp.zip"
      ]
    },
    {
      "cell_type": "code",
      "execution_count": null,
      "metadata": {
        "colab": {
          "base_uri": "https://localhost:8080/"
        },
        "id": "X58w8JLpMnjH",
        "outputId": "74f1dfa9-6b6d-4b36-f67e-bbae243869f9"
      },
      "outputs": [
        {
          "name": "stdout",
          "output_type": "stream",
          "text": [
            "\u001b[34m\u001b[1mval: \u001b[0mdata=/content/yolov5/data/coco.yaml, weights=['yolov5x.pt'], batch_size=32, imgsz=640, conf_thres=0.001, iou_thres=0.65, task=val, device=, single_cls=False, augment=False, verbose=False, save_txt=False, save_hybrid=False, save_conf=False, save_json=True, project=runs/val, name=exp, exist_ok=False, half=True\n",
            "YOLOv5 🚀 v6.0-48-g84a8099 torch 1.10.0+cu102 CUDA:0 (Tesla V100-SXM2-16GB, 16160MiB)\n",
            "\n",
            "Downloading https://github.com/ultralytics/yolov5/releases/download/v6.0/yolov5x.pt to yolov5x.pt...\n",
            "100% 166M/166M [00:03<00:00, 54.1MB/s]\n",
            "\n",
            "Fusing layers... \n",
            "Model Summary: 444 layers, 86705005 parameters, 0 gradients\n",
            "\u001b[34m\u001b[1mval: \u001b[0mScanning '../datasets/coco/val2017' images and labels...4952 found, 48 missing, 0 empty, 0 corrupted: 100% 5000/5000 [00:01<00:00, 2636.64it/s]\n",
            "\u001b[34m\u001b[1mval: \u001b[0mNew cache created: ../datasets/coco/val2017.cache\n",
            "               Class     Images     Labels          P          R     mAP@.5 mAP@.5:.95: 100% 157/157 [01:12<00:00,  2.17it/s]\n",
            "                 all       5000      36335      0.729       0.63      0.683      0.496\n",
            "Speed: 0.1ms pre-process, 4.9ms inference, 1.9ms NMS per image at shape (32, 3, 640, 640)\n",
            "\n",
            "Evaluating pycocotools mAP... saving runs/val/exp/yolov5x_predictions.json...\n",
            "loading annotations into memory...\n",
            "Done (t=0.46s)\n",
            "creating index...\n",
            "index created!\n",
            "Loading and preparing results...\n",
            "DONE (t=5.15s)\n",
            "creating index...\n",
            "index created!\n",
            "Running per image evaluation...\n",
            "Evaluate annotation type *bbox*\n",
            "DONE (t=90.39s).\n",
            "Accumulating evaluation results...\n",
            "DONE (t=14.54s).\n",
            " Average Precision  (AP) @[ IoU=0.50:0.95 | area=   all | maxDets=100 ] = 0.507\n",
            " Average Precision  (AP) @[ IoU=0.50      | area=   all | maxDets=100 ] = 0.689\n",
            " Average Precision  (AP) @[ IoU=0.75      | area=   all | maxDets=100 ] = 0.552\n",
            " Average Precision  (AP) @[ IoU=0.50:0.95 | area= small | maxDets=100 ] = 0.345\n",
            " Average Precision  (AP) @[ IoU=0.50:0.95 | area=medium | maxDets=100 ] = 0.559\n",
            " Average Precision  (AP) @[ IoU=0.50:0.95 | area= large | maxDets=100 ] = 0.652\n",
            " Average Recall     (AR) @[ IoU=0.50:0.95 | area=   all | maxDets=  1 ] = 0.381\n",
            " Average Recall     (AR) @[ IoU=0.50:0.95 | area=   all | maxDets= 10 ] = 0.630\n",
            " Average Recall     (AR) @[ IoU=0.50:0.95 | area=   all | maxDets=100 ] = 0.682\n",
            " Average Recall     (AR) @[ IoU=0.50:0.95 | area= small | maxDets=100 ] = 0.526\n",
            " Average Recall     (AR) @[ IoU=0.50:0.95 | area=medium | maxDets=100 ] = 0.732\n",
            " Average Recall     (AR) @[ IoU=0.50:0.95 | area= large | maxDets=100 ] = 0.829\n",
            "Results saved to \u001b[1mruns/val/exp\u001b[0m\n"
          ]
        }
      ],
      "source": [
        "# Run YOLOv5x on COCO val\n",
        "!python val.py --weights best.pt --data coco.yaml --img 640 --iou 0.65 --half"
      ]
    },
    {
      "cell_type": "markdown",
      "metadata": {
        "id": "rc_KbFk0juX2"
      },
      "source": [
        "## COCO test\n",
        "Download [COCO test2017](https://github.com/ultralytics/yolov5/blob/74b34872fdf41941cddcf243951cdb090fbac17b/data/coco.yaml#L15) dataset (7GB - 40,000 images), to test model accuracy on test-dev set (**20,000 images, no labels**). Results are saved to a `*.json` file which should be **zipped** and submitted to the evaluation server at https://competitions.codalab.org/competitions/20794."
      ]
    },
    {
      "cell_type": "code",
      "execution_count": null,
      "metadata": {
        "id": "V0AJnSeCIHyJ"
      },
      "outputs": [],
      "source": [
        "# Download COCO test-dev2017\n",
        "torch.hub.download_url_to_file('https://ultralytics.com/assets/coco2017labels.zip', 'tmp.zip')\n",
        "!unzip -q tmp.zip -d ../datasets && rm tmp.zip\n",
        "!f=\"test2017.zip\" && curl http://images.cocodataset.org/zips/$f -o $f && unzip -q $f -d ../datasets/coco/images"
      ]
    },
    {
      "cell_type": "code",
      "execution_count": null,
      "metadata": {
        "id": "29GJXAP_lPrt"
      },
      "outputs": [],
      "source": [
        "# Run YOLOv5x on COCO test\n",
        "!python val.py --weights yolov5x.pt --data coco.yaml --img 640 --iou 0.65 --half --task test"
      ]
    },
    {
      "cell_type": "markdown",
      "metadata": {
        "id": "ZY2VXXXu74w5"
      },
      "source": [
        "# 3. Train\n",
        "\n",
        "<p align=\"\"><a href=\"https://roboflow.com/?ref=ultralytics\"><img width=\"1000\" src=\"https://uploads-ssl.webflow.com/5f6bc60e665f54545a1e52a5/615627e5824c9c6195abfda9_computer-vision-cycle.png\"/></a></p>\n",
        "Close the active learning loop by sampling images from your inference conditions with the `roboflow` pip package\n",
        "<br><br>\n",
        "\n",
        "Train a YOLOv5s model on the [COCO128](https://www.kaggle.com/ultralytics/coco128) dataset with `--data coco128.yaml`, starting from pretrained `--weights yolov5s.pt`, or from randomly initialized `--weights '' --cfg yolov5s.yaml`.\n",
        "\n",
        "- **Pretrained [Models](https://github.com/ultralytics/yolov5/tree/master/models)** are downloaded\n",
        "automatically from the [latest YOLOv5 release](https://github.com/ultralytics/yolov5/releases)\n",
        "- **[Datasets](https://github.com/ultralytics/yolov5/tree/master/data)** available for autodownload include: [COCO](https://github.com/ultralytics/yolov5/blob/master/data/coco.yaml), [COCO128](https://github.com/ultralytics/yolov5/blob/master/data/coco128.yaml), [VOC](https://github.com/ultralytics/yolov5/blob/master/data/VOC.yaml), [Argoverse](https://github.com/ultralytics/yolov5/blob/master/data/Argoverse.yaml), [VisDrone](https://github.com/ultralytics/yolov5/blob/master/data/VisDrone.yaml), [GlobalWheat](https://github.com/ultralytics/yolov5/blob/master/data/GlobalWheat2020.yaml), [xView](https://github.com/ultralytics/yolov5/blob/master/data/xView.yaml), [Objects365](https://github.com/ultralytics/yolov5/blob/master/data/Objects365.yaml), [SKU-110K](https://github.com/ultralytics/yolov5/blob/master/data/SKU-110K.yaml).\n",
        "- **Training Results** are saved to `runs/train/` with incrementing run directories, i.e. `runs/train/exp2`, `runs/train/exp3` etc.\n",
        "<br><br>\n",
        "\n",
        "## Train on Custom Data with Roboflow 🌟 NEW\n",
        "\n",
        "[Roboflow](https://roboflow.com/?ref=ultralytics) enables you to easily **organize, label, and prepare** a high quality dataset with your own custom data. Roboflow also makes it easy to establish an active learning pipeline, collaborate with your team on dataset improvement, and integrate directly into your model building workflow with the `roboflow` pip package.\n",
        "\n",
        "- Custom Training Example: [https://blog.roboflow.com/how-to-train-yolov5-on-a-custom-dataset/](https://blog.roboflow.com/how-to-train-yolov5-on-a-custom-dataset/?ref=ultralytics)\n",
        "- Custom Training Notebook: [![Open In Colab](https://colab.research.google.com/assets/colab-badge.svg)](https://colab.research.google.com/github/roboflow-ai/yolov5-custom-training-tutorial/blob/main/yolov5-custom-training.ipynb)\n",
        "<br>\n",
        "\n",
        "<p align=\"\"><a href=\"https://roboflow.com/?ref=ultralytics\"><img width=\"480\" src=\"https://uploads-ssl.webflow.com/5f6bc60e665f54545a1e52a5/6152a275ad4b4ac20cd2e21a_roboflow-annotate.gif\"/></a></p>Label images lightning fast (including with model-assisted labeling)"
      ]
    },
    {
      "cell_type": "code",
      "execution_count": null,
      "metadata": {
        "id": "bOy5KI2ncnWd"
      },
      "outputs": [],
      "source": [
        "# Tensorboard  (optional)\n",
        "%load_ext tensorboard\n",
        "%tensorboard --logdir runs/train"
      ]
    },
    {
      "cell_type": "code",
      "execution_count": null,
      "metadata": {
        "id": "2fLAV42oNb7M"
      },
      "outputs": [],
      "source": [
        "# Weights & Biases  (optional)\n",
        "%pip install -q wandb\n",
        "import wandb\n",
        "wandb.login()"
      ]
    },
    {
      "cell_type": "code",
      "execution_count": null,
      "metadata": {
        "colab": {
          "base_uri": "https://localhost:8080/"
        },
        "id": "1NcFxRcFdJ_O",
        "outputId": "8724d13d-6711-4a12-d96a-1c655e5c3549"
      },
      "outputs": [
        {
          "name": "stdout",
          "output_type": "stream",
          "text": [
            "\u001b[34m\u001b[1mtrain: \u001b[0mweights=yolov5s.pt, cfg=, data=coco128.yaml, hyp=data/hyps/hyp.scratch.yaml, epochs=3, batch_size=16, imgsz=640, rect=False, resume=False, nosave=False, noval=False, noautoanchor=False, evolve=None, bucket=, cache=ram, image_weights=False, device=, multi_scale=False, single_cls=False, adam=False, sync_bn=False, workers=8, project=runs/train, name=exp, exist_ok=False, quad=False, linear_lr=False, label_smoothing=0.0, patience=100, freeze=0, save_period=-1, local_rank=-1, entity=None, upload_dataset=False, bbox_interval=-1, artifact_alias=latest\n",
            "\u001b[34m\u001b[1mgithub: \u001b[0mup to date with https://github.com/ultralytics/yolov5 ✅\n",
            "YOLOv5 🚀 v6.0-48-g84a8099 torch 1.10.0+cu102 CUDA:0 (Tesla V100-SXM2-16GB, 16160MiB)\n",
            "\n",
            "\u001b[34m\u001b[1mhyperparameters: \u001b[0mlr0=0.01, lrf=0.1, momentum=0.937, weight_decay=0.0005, warmup_epochs=3.0, warmup_momentum=0.8, warmup_bias_lr=0.1, box=0.05, cls=0.5, cls_pw=1.0, obj=1.0, obj_pw=1.0, iou_t=0.2, anchor_t=4.0, fl_gamma=0.0, hsv_h=0.015, hsv_s=0.7, hsv_v=0.4, degrees=0.0, translate=0.1, scale=0.5, shear=0.0, perspective=0.0, flipud=0.0, fliplr=0.5, mosaic=1.0, mixup=0.0, copy_paste=0.0\n",
            "\u001b[34m\u001b[1mWeights & Biases: \u001b[0mrun 'pip install wandb' to automatically track and visualize YOLOv5 🚀 runs (RECOMMENDED)\n",
            "\u001b[34m\u001b[1mTensorBoard: \u001b[0mStart with 'tensorboard --logdir runs/train', view at http://localhost:6006/\n",
            "\n",
            "                 from  n    params  module                                  arguments                     \n",
            "  0                -1  1      3520  models.common.Conv                      [3, 32, 6, 2, 2]              \n",
            "  1                -1  1     18560  models.common.Conv                      [32, 64, 3, 2]                \n",
            "  2                -1  1     18816  models.common.C3                        [64, 64, 1]                   \n",
            "  3                -1  1     73984  models.common.Conv                      [64, 128, 3, 2]               \n",
            "  4                -1  2    115712  models.common.C3                        [128, 128, 2]                 \n",
            "  5                -1  1    295424  models.common.Conv                      [128, 256, 3, 2]              \n",
            "  6                -1  3    625152  models.common.C3                        [256, 256, 3]                 \n",
            "  7                -1  1   1180672  models.common.Conv                      [256, 512, 3, 2]              \n",
            "  8                -1  1   1182720  models.common.C3                        [512, 512, 1]                 \n",
            "  9                -1  1    656896  models.common.SPPF                      [512, 512, 5]                 \n",
            " 10                -1  1    131584  models.common.Conv                      [512, 256, 1, 1]              \n",
            " 11                -1  1         0  torch.nn.modules.upsampling.Upsample    [None, 2, 'nearest']          \n",
            " 12           [-1, 6]  1         0  models.common.Concat                    [1]                           \n",
            " 13                -1  1    361984  models.common.C3                        [512, 256, 1, False]          \n",
            " 14                -1  1     33024  models.common.Conv                      [256, 128, 1, 1]              \n",
            " 15                -1  1         0  torch.nn.modules.upsampling.Upsample    [None, 2, 'nearest']          \n",
            " 16           [-1, 4]  1         0  models.common.Concat                    [1]                           \n",
            " 17                -1  1     90880  models.common.C3                        [256, 128, 1, False]          \n",
            " 18                -1  1    147712  models.common.Conv                      [128, 128, 3, 2]              \n",
            " 19          [-1, 14]  1         0  models.common.Concat                    [1]                           \n",
            " 20                -1  1    296448  models.common.C3                        [256, 256, 1, False]          \n",
            " 21                -1  1    590336  models.common.Conv                      [256, 256, 3, 2]              \n",
            " 22          [-1, 10]  1         0  models.common.Concat                    [1]                           \n",
            " 23                -1  1   1182720  models.common.C3                        [512, 512, 1, False]          \n",
            " 24      [17, 20, 23]  1    229245  models.yolo.Detect                      [80, [[10, 13, 16, 30, 33, 23], [30, 61, 62, 45, 59, 119], [116, 90, 156, 198, 373, 326]], [128, 256, 512]]\n",
            "Model Summary: 270 layers, 7235389 parameters, 7235389 gradients, 16.5 GFLOPs\n",
            "\n",
            "Transferred 349/349 items from yolov5s.pt\n",
            "Scaled weight_decay = 0.0005\n",
            "\u001b[34m\u001b[1moptimizer:\u001b[0m SGD with parameter groups 57 weight, 60 weight (no decay), 60 bias\n",
            "\u001b[34m\u001b[1malbumentations: \u001b[0mversion 1.0.3 required by YOLOv5, but version 0.1.12 is currently installed\n",
            "\u001b[34m\u001b[1mtrain: \u001b[0mScanning '../datasets/coco128/labels/train2017.cache' images and labels... 128 found, 0 missing, 2 empty, 0 corrupted: 100% 128/128 [00:00<?, ?it/s]\n",
            "\u001b[34m\u001b[1mtrain: \u001b[0mCaching images (0.1GB ram): 100% 128/128 [00:00<00:00, 296.04it/s]\n",
            "\u001b[34m\u001b[1mval: \u001b[0mScanning '../datasets/coco128/labels/train2017.cache' images and labels... 128 found, 0 missing, 2 empty, 0 corrupted: 100% 128/128 [00:00<?, ?it/s]\n",
            "\u001b[34m\u001b[1mval: \u001b[0mCaching images (0.1GB ram): 100% 128/128 [00:01<00:00, 121.58it/s]\n",
            "Plotting labels... \n",
            "\n",
            "\u001b[34m\u001b[1mautoanchor: \u001b[0mAnalyzing anchors... anchors/target = 4.27, Best Possible Recall (BPR) = 0.9935\n",
            "Image sizes 640 train, 640 val\n",
            "Using 2 dataloader workers\n",
            "Logging results to \u001b[1mruns/train/exp\u001b[0m\n",
            "Starting training for 3 epochs...\n",
            "\n",
            "     Epoch   gpu_mem       box       obj       cls    labels  img_size\n",
            "       0/2     3.62G   0.04621    0.0711   0.02112       203       640: 100% 8/8 [00:04<00:00,  1.99it/s]\n",
            "               Class     Images     Labels          P          R     mAP@.5 mAP@.5:.95: 100% 4/4 [00:00<00:00,  4.37it/s]\n",
            "                 all        128        929      0.655      0.547      0.622       0.41\n",
            "\n",
            "     Epoch   gpu_mem       box       obj       cls    labels  img_size\n",
            "       1/2     5.31G   0.04564   0.06898   0.02116       143       640: 100% 8/8 [00:01<00:00,  4.77it/s]\n",
            "               Class     Images     Labels          P          R     mAP@.5 mAP@.5:.95: 100% 4/4 [00:00<00:00,  4.27it/s]\n",
            "                 all        128        929       0.68      0.554      0.632      0.419\n",
            "\n",
            "     Epoch   gpu_mem       box       obj       cls    labels  img_size\n",
            "       2/2     5.31G   0.04487   0.06883   0.01998       253       640: 100% 8/8 [00:01<00:00,  4.91it/s]\n",
            "               Class     Images     Labels          P          R     mAP@.5 mAP@.5:.95: 100% 4/4 [00:00<00:00,  4.30it/s]\n",
            "                 all        128        929       0.71      0.544      0.629      0.423\n",
            "\n",
            "3 epochs completed in 0.003 hours.\n",
            "Optimizer stripped from runs/train/exp/weights/last.pt, 14.9MB\n",
            "Optimizer stripped from runs/train/exp/weights/best.pt, 14.9MB\n",
            "\n",
            "Validating runs/train/exp/weights/best.pt...\n",
            "Fusing layers... \n",
            "Model Summary: 213 layers, 7225885 parameters, 0 gradients, 16.5 GFLOPs\n",
            "               Class     Images     Labels          P          R     mAP@.5 mAP@.5:.95: 100% 4/4 [00:03<00:00,  1.04it/s]\n",
            "                 all        128        929       0.71      0.544       0.63      0.423\n",
            "              person        128        254      0.816      0.669      0.774      0.507\n",
            "             bicycle        128          6      0.799      0.667      0.614      0.371\n",
            "                 car        128         46      0.803      0.355      0.486      0.209\n",
            "          motorcycle        128          5      0.704        0.6      0.791      0.583\n",
            "            airplane        128          6          1      0.795      0.995      0.717\n",
            "                 bus        128          7      0.656      0.714       0.72      0.606\n",
            "               train        128          3      0.852          1      0.995      0.682\n",
            "               truck        128         12      0.521       0.25      0.395      0.215\n",
            "                boat        128          6      0.795      0.333      0.445      0.137\n",
            "       traffic light        128         14      0.576      0.143       0.24      0.161\n",
            "           stop sign        128          2      0.636        0.5      0.828      0.713\n",
            "               bench        128          9      0.972      0.444      0.575       0.25\n",
            "                bird        128         16      0.939      0.968      0.988      0.645\n",
            "                 cat        128          4      0.984       0.75      0.822      0.694\n",
            "                 dog        128          9      0.888      0.667      0.903       0.54\n",
            "               horse        128          2      0.689          1      0.995      0.697\n",
            "            elephant        128         17       0.96      0.882      0.943      0.681\n",
            "                bear        128          1      0.549          1      0.995      0.995\n",
            "               zebra        128          4       0.86          1      0.995      0.952\n",
            "             giraffe        128          9      0.822      0.778      0.905       0.57\n",
            "            backpack        128          6          1      0.309      0.457      0.195\n",
            "            umbrella        128         18      0.775      0.576       0.74      0.418\n",
            "             handbag        128         19      0.628      0.105      0.167      0.111\n",
            "                 tie        128          7       0.96      0.571      0.701      0.441\n",
            "            suitcase        128          4          1      0.895      0.995      0.621\n",
            "             frisbee        128          5      0.641        0.8      0.798      0.664\n",
            "                skis        128          1      0.627          1      0.995      0.497\n",
            "           snowboard        128          7      0.988      0.714      0.768      0.556\n",
            "         sports ball        128          6      0.671        0.5      0.579      0.339\n",
            "                kite        128         10      0.631      0.515      0.598      0.221\n",
            "        baseball bat        128          4       0.47      0.456      0.277      0.137\n",
            "      baseball glove        128          7      0.459      0.429      0.334      0.182\n",
            "          skateboard        128          5        0.7       0.48      0.736      0.548\n",
            "       tennis racket        128          7      0.559      0.571      0.538      0.315\n",
            "              bottle        128         18      0.607      0.389      0.484      0.282\n",
            "          wine glass        128         16      0.722      0.812       0.82      0.385\n",
            "                 cup        128         36      0.881      0.361      0.532      0.312\n",
            "                fork        128          6      0.384      0.167      0.239      0.191\n",
            "               knife        128         16      0.908      0.616      0.681      0.443\n",
            "               spoon        128         22      0.836      0.364      0.536      0.264\n",
            "                bowl        128         28      0.793      0.536      0.633      0.471\n",
            "              banana        128          1          0          0      0.142     0.0995\n",
            "            sandwich        128          2          0          0     0.0951     0.0717\n",
            "              orange        128          4          1          0       0.67      0.317\n",
            "            broccoli        128         11      0.345      0.182      0.283      0.243\n",
            "              carrot        128         24      0.688      0.459      0.612      0.402\n",
            "             hot dog        128          2      0.424      0.771      0.497      0.473\n",
            "               pizza        128          5      0.622          1      0.824      0.551\n",
            "               donut        128         14      0.703          1      0.952      0.853\n",
            "                cake        128          4      0.733          1      0.945      0.777\n",
            "               chair        128         35      0.512      0.486      0.488      0.222\n",
            "               couch        128          6       0.68       0.36      0.746      0.406\n",
            "        potted plant        128         14      0.797      0.714      0.808      0.482\n",
            "                 bed        128          3          1          0      0.474      0.318\n",
            "        dining table        128         13      0.852      0.445      0.478      0.315\n",
            "              toilet        128          2      0.512        0.5      0.554      0.487\n",
            "                  tv        128          2      0.754          1      0.995      0.895\n",
            "              laptop        128          3          1          0       0.39      0.147\n",
            "               mouse        128          2          1          0     0.0283     0.0226\n",
            "              remote        128          8      0.747      0.625      0.636      0.488\n",
            "          cell phone        128          8      0.555      0.166      0.417      0.222\n",
            "           microwave        128          3      0.417          1      0.995      0.732\n",
            "                oven        128          5       0.37        0.4      0.432      0.249\n",
            "                sink        128          6      0.356      0.167      0.269      0.149\n",
            "        refrigerator        128          5      0.705        0.8      0.814       0.45\n",
            "                book        128         29      0.628      0.138      0.298      0.136\n",
            "               clock        128          9      0.857      0.778      0.893      0.574\n",
            "                vase        128          2      0.242          1      0.663      0.622\n",
            "            scissors        128          1          1          0     0.0207    0.00207\n",
            "          teddy bear        128         21      0.847      0.381      0.622      0.345\n",
            "          toothbrush        128          5       0.99        0.6      0.662       0.45\n",
            "Results saved to \u001b[1mruns/train/exp\u001b[0m\n"
          ]
        }
      ],
      "source": [
        "# Train YOLOv5s on COCO128 for 3 epochs\n",
        "!python train.py --img 640 --batch 16 --epochs 3 --data coco128.yaml --weights yolov5s.pt --cache"
      ]
    },
    {
      "cell_type": "markdown",
      "metadata": {
        "id": "15glLzbQx5u0"
      },
      "source": [
        "# 4. Visualize"
      ]
    },
    {
      "cell_type": "markdown",
      "metadata": {
        "id": "DLI1JmHU7B0l"
      },
      "source": [
        "## Weights & Biases Logging 🌟 NEW\n",
        "\n",
        "[Weights & Biases](https://wandb.ai/site?utm_campaign=repo_yolo_notebook) (W&B) is now integrated with YOLOv5 for real-time visualization and cloud logging of training runs. This allows for better run comparison and introspection, as well improved visibility and collaboration for teams. To enable W&B `pip install wandb`, and then train normally (you will be guided through setup on first use). \n",
        "\n",
        "During training you will see live updates at [https://wandb.ai/home](https://wandb.ai/home?utm_campaign=repo_yolo_notebook), and you can create and share detailed [Reports](https://wandb.ai/glenn-jocher/yolov5_tutorial/reports/YOLOv5-COCO128-Tutorial-Results--VmlldzozMDI5OTY) of your results. For more information see the [YOLOv5 Weights & Biases Tutorial](https://github.com/ultralytics/yolov5/issues/1289). \n",
        "\n",
        "<p align=\"left\"><img width=\"900\" alt=\"Weights & Biases dashboard\" src=\"https://user-images.githubusercontent.com/26833433/135390767-c28b050f-8455-4004-adb0-3b730386e2b2.png\"></p>"
      ]
    },
    {
      "cell_type": "markdown",
      "metadata": {
        "id": "-WPvRbS5Swl6"
      },
      "source": [
        "## Local Logging\n",
        "\n",
        "All results are logged by default to `runs/train`, with a new experiment directory created for each new training as `runs/train/exp2`, `runs/train/exp3`, etc. View train and val jpgs to see mosaics, labels, predictions and augmentation effects. Note an Ultralytics **Mosaic Dataloader** is used for training (shown below), which combines 4 images into 1 mosaic during training.\n",
        "\n",
        "> <img src=\"https://user-images.githubusercontent.com/26833433/131255960-b536647f-7c61-4f60-bbc5-cb2544d71b2a.jpg\" width=\"700\">  \n",
        "`train_batch0.jpg` shows train batch 0 mosaics and labels\n",
        "\n",
        "> <img src=\"https://user-images.githubusercontent.com/26833433/131256748-603cafc7-55d1-4e58-ab26-83657761aed9.jpg\" width=\"700\">  \n",
        "`test_batch0_labels.jpg` shows val batch 0 labels\n",
        "\n",
        "> <img src=\"https://user-images.githubusercontent.com/26833433/131256752-3f25d7a5-7b0f-4bb3-ab78-46343c3800fe.jpg\" width=\"700\">  \n",
        "`test_batch0_pred.jpg` shows val batch 0 _predictions_\n",
        "\n",
        "Training results are automatically logged to [Tensorboard](https://www.tensorflow.org/tensorboard) and [CSV](https://github.com/ultralytics/yolov5/pull/4148) as `results.csv`, which is plotted as `results.png` (below) after training completes. You can also plot any `results.csv` file manually:\n",
        "\n",
        "```python\n",
        "from utils.plots import plot_results \n",
        "plot_results('path/to/results.csv')  # plot 'results.csv' as 'results.png'\n",
        "```\n",
        "\n",
        "<img align=\"left\" width=\"800\" alt=\"COCO128 Training Results\" src=\"https://user-images.githubusercontent.com/26833433/126906780-8c5e2990-6116-4de6-b78a-367244a33ccf.png\">"
      ]
    },
    {
      "cell_type": "markdown",
      "metadata": {
        "id": "Zelyeqbyt3GD"
      },
      "source": [
        "# Environments\n",
        "\n",
        "YOLOv5 may be run in any of the following up-to-date verified environments (with all dependencies including [CUDA](https://developer.nvidia.com/cuda)/[CUDNN](https://developer.nvidia.com/cudnn), [Python](https://www.python.org/) and [PyTorch](https://pytorch.org/) preinstalled):\n",
        "\n",
        "- **Google Colab and Kaggle** notebooks with free GPU: <a href=\"https://colab.research.google.com/github/ultralytics/yolov5/blob/master/tutorial.ipynb\"><img src=\"https://colab.research.google.com/assets/colab-badge.svg\" alt=\"Open In Colab\"></a> <a href=\"https://www.kaggle.com/ultralytics/yolov5\"><img src=\"https://kaggle.com/static/images/open-in-kaggle.svg\" alt=\"Open In Kaggle\"></a>\n",
        "- **Google Cloud** Deep Learning VM. See [GCP Quickstart Guide](https://github.com/ultralytics/yolov5/wiki/GCP-Quickstart)\n",
        "- **Amazon** Deep Learning AMI. See [AWS Quickstart Guide](https://github.com/ultralytics/yolov5/wiki/AWS-Quickstart)\n",
        "- **Docker Image**. See [Docker Quickstart Guide](https://github.com/ultralytics/yolov5/wiki/Docker-Quickstart) <a href=\"https://hub.docker.com/r/ultralytics/yolov5\"><img src=\"https://img.shields.io/docker/pulls/ultralytics/yolov5?logo=docker\" alt=\"Docker Pulls\"></a>\n"
      ]
    },
    {
      "cell_type": "markdown",
      "metadata": {
        "id": "6Qu7Iesl0p54"
      },
      "source": [
        "# Status\n",
        "\n",
        "![CI CPU testing](https://github.com/ultralytics/yolov5/workflows/CI%20CPU%20testing/badge.svg)\n",
        "\n",
        "If this badge is green, all [YOLOv5 GitHub Actions](https://github.com/ultralytics/yolov5/actions) Continuous Integration (CI) tests are currently passing. CI tests verify correct operation of YOLOv5 training ([train.py](https://github.com/ultralytics/yolov5/blob/master/train.py)), testing ([val.py](https://github.com/ultralytics/yolov5/blob/master/val.py)), inference ([detect.py](https://github.com/ultralytics/yolov5/blob/master/detect.py)) and export ([export.py](https://github.com/ultralytics/yolov5/blob/master/export.py)) on MacOS, Windows, and Ubuntu every 24 hours and on every commit.\n"
      ]
    },
    {
      "cell_type": "markdown",
      "metadata": {
        "id": "IEijrePND_2I"
      },
      "source": [
        "# Appendix\n",
        "\n",
        "Optional extras below. Unit tests validate repo functionality and should be run on any PRs submitted.\n"
      ]
    },
    {
      "cell_type": "code",
      "execution_count": null,
      "metadata": {
        "id": "mcKoSIK2WSzj"
      },
      "outputs": [],
      "source": [
        "# Reproduce\n",
        "for x in 'yolov5s', 'yolov5m', 'yolov5l', 'yolov5x':\n",
        "  !python val.py --weights {x}.pt --data coco.yaml --img 640 --task speed  # speed\n",
        "  !python val.py --weights {x}.pt --data coco.yaml --img 640 --conf 0.001 --iou 0.65  # mAP"
      ]
    },
    {
      "cell_type": "code",
      "execution_count": null,
      "metadata": {
        "id": "GMusP4OAxFu6"
      },
      "outputs": [],
      "source": [
        "# PyTorch Hub\n",
        "import torch\n",
        "\n",
        "# Model\n",
        "model = torch.hub.load('ultralytics/yolov5', 'yolov5s')\n",
        "\n",
        "# Images\n",
        "dir = 'https://ultralytics.com/images/'\n",
        "imgs = [dir + f for f in ('zidane.jpg', 'bus.jpg')]  # batch of images\n",
        "\n",
        "# Inference\n",
        "results = model(imgs)\n",
        "results.print()  # or .show(), .save()"
      ]
    },
    {
      "cell_type": "code",
      "execution_count": null,
      "metadata": {
        "id": "FGH0ZjkGjejy"
      },
      "outputs": [],
      "source": [
        "# CI Checks\n",
        "%%shell\n",
        "export PYTHONPATH=\"$PWD\"  # to run *.py. files in subdirectories\n",
        "rm -rf runs  # remove runs/\n",
        "for m in yolov5n; do  # models\n",
        "  python train.py --img 64 --batch 32 --weights $m.pt --epochs 1 --device 0  # train pretrained\n",
        "  python train.py --img 64 --batch 32 --weights '' --cfg $m.yaml --epochs 1 --device 0  # train scratch\n",
        "  for d in 0 cpu; do  # devices\n",
        "    python val.py --weights $m.pt --device $d # val official\n",
        "    python val.py --weights runs/train/exp/weights/best.pt --device $d # val custom\n",
        "    python detect.py --weights $m.pt --device $d  # detect official\n",
        "    python detect.py --weights runs/train/exp/weights/best.pt --device $d  # detect custom\n",
        "  done\n",
        "  python hubconf.py  # hub\n",
        "  python models/yolo.py --cfg $m.yaml  # build PyTorch model\n",
        "  python models/tf.py --weights $m.pt  # build TensorFlow model\n",
        "  python export.py --img 64 --batch 1 --weights $m.pt --include torchscript onnx  # export\n",
        "done"
      ]
    },
    {
      "cell_type": "code",
      "execution_count": null,
      "metadata": {
        "id": "gogI-kwi3Tye"
      },
      "outputs": [],
      "source": [
        "# Profile\n",
        "from utils.torch_utils import profile\n",
        "\n",
        "m1 = lambda x: x * torch.sigmoid(x)\n",
        "m2 = torch.nn.SiLU()\n",
        "results = profile(input=torch.randn(16, 3, 640, 640), ops=[m1, m2], n=100)"
      ]
    },
    {
      "cell_type": "code",
      "execution_count": null,
      "metadata": {
        "id": "RVRSOhEvUdb5"
      },
      "outputs": [],
      "source": [
        "# Evolve\n",
        "!python train.py --img 640 --batch 64 --epochs 100 --data coco128.yaml --weights yolov5s.pt --cache --noautoanchor --evolve\n",
        "!d=runs/train/evolve && cp evolve.* $d && zip -r evolve.zip $d && gsutil mv evolve.zip gs://bucket  # upload results (optional)"
      ]
    },
    {
      "cell_type": "code",
      "execution_count": null,
      "metadata": {
        "id": "BSgFCAcMbk1R"
      },
      "outputs": [],
      "source": [
        "# VOC\n",
        "for b, m in zip([64, 48, 32, 16], ['yolov5s', 'yolov5m', 'yolov5l', 'yolov5x']):  # zip(batch_size, model)\n",
        "  !python train.py --batch {b} --weights {m}.pt --data VOC.yaml --epochs 50 --cache --img 512 --nosave --hyp hyp.finetune.yaml --project VOC --name {m}"
      ]
    },
    {
      "cell_type": "code",
      "execution_count": null,
      "metadata": {
        "id": "VTRwsvA9u7ln"
      },
      "outputs": [],
      "source": [
        "# TensorRT \n",
        "# https://developer.nvidia.com/nvidia-tensorrt-download\n",
        "!lsb_release -a  # check system\n",
        "%ls /usr/local | grep cuda  # check CUDA\n",
        "!wget https://ultralytics.com/assets/TensorRT-8.2.0.6.Linux.x86_64-gnu.cuda-11.4.cudnn8.2.tar.gz  # download\n",
        "![ -d /content/TensorRT-8.2.0.6/ ] || tar -C /content/ -zxf ./TensorRT-8.2.0.6.Linux.x86_64-gnu.cuda-11.4.cudnn8.2.tar.gz  # unzip\n",
        "%pip list | grep tensorrt || pip install /content/TensorRT-8.2.0.6/python/tensorrt-8.2.0.6-cp37-none-linux_x86_64.whl  # install\n",
        "%env LD_LIBRARY_PATH=/usr/local/cuda-11.1/lib64:/content/cuda-11.1/lib64:/content/TensorRT-8.2.0.6/lib:/usr/local/nvidia/lib:/usr/local/nvidia/lib64  # add to path\n",
        "\n",
        "!python export.py --weights yolov5s.pt --include engine --imgsz 640 640 --device 0\n",
        "!python detect.py --weights yolov5s.engine --imgsz 640 640 --device 0"
      ]
    }
  ],
  "metadata": {
    "accelerator": "GPU",
    "colab": {
      "collapsed_sections": [],
      "include_colab_link": true,
      "name": "YOLOv5 Tutorial",
      "provenance": []
    },
    "kernelspec": {
      "display_name": "Python 3",
      "name": "python3"
    },
    "language_info": {
      "codemirror_mode": {
        "name": "ipython",
        "version": 3
      },
      "file_extension": ".py",
      "mimetype": "text/x-python",
      "name": "python",
      "nbconvert_exporter": "python",
      "pygments_lexer": "ipython3",
      "version": "3.10.10"
    },
    "widgets": {
      "application/vnd.jupyter.widget-state+json": {
        "0ce7164fc0c74bb9a2b5c7037375a727": {
          "model_module": "@jupyter-widgets/controls",
          "model_module_version": "1.5.0",
          "model_name": "ProgressStyleModel",
          "state": {
            "_model_module": "@jupyter-widgets/controls",
            "_model_module_version": "1.5.0",
            "_model_name": "ProgressStyleModel",
            "_view_count": null,
            "_view_module": "@jupyter-widgets/base",
            "_view_module_version": "1.2.0",
            "_view_name": "StyleView",
            "bar_color": null,
            "description_width": ""
          }
        },
        "25621cff5d16448cb7260e839fd0f543": {
          "model_module": "@jupyter-widgets/base",
          "model_module_version": "1.2.0",
          "model_name": "LayoutModel",
          "state": {
            "_model_module": "@jupyter-widgets/base",
            "_model_module_version": "1.2.0",
            "_model_name": "LayoutModel",
            "_view_count": null,
            "_view_module": "@jupyter-widgets/base",
            "_view_module_version": "1.2.0",
            "_view_name": "LayoutView",
            "align_content": null,
            "align_items": null,
            "align_self": null,
            "border": null,
            "bottom": null,
            "display": null,
            "flex": null,
            "flex_flow": null,
            "grid_area": null,
            "grid_auto_columns": null,
            "grid_auto_flow": null,
            "grid_auto_rows": null,
            "grid_column": null,
            "grid_gap": null,
            "grid_row": null,
            "grid_template_areas": null,
            "grid_template_columns": null,
            "grid_template_rows": null,
            "height": null,
            "justify_content": null,
            "justify_items": null,
            "left": null,
            "margin": null,
            "max_height": null,
            "max_width": null,
            "min_height": null,
            "min_width": null,
            "object_fit": null,
            "object_position": null,
            "order": null,
            "overflow": null,
            "overflow_x": null,
            "overflow_y": null,
            "padding": null,
            "right": null,
            "top": null,
            "visibility": null,
            "width": null
          }
        },
        "384a001876054c93b0af45cd1e960bfe": {
          "model_module": "@jupyter-widgets/controls",
          "model_module_version": "1.5.0",
          "model_name": "HTMLModel",
          "state": {
            "_dom_classes": [],
            "_model_module": "@jupyter-widgets/controls",
            "_model_module_version": "1.5.0",
            "_model_name": "HTMLModel",
            "_view_count": null,
            "_view_module": "@jupyter-widgets/controls",
            "_view_module_version": "1.5.0",
            "_view_name": "HTMLView",
            "description": "",
            "description_tooltip": null,
            "layout": "IPY_MODEL_25621cff5d16448cb7260e839fd0f543",
            "placeholder": "​",
            "style": "IPY_MODEL_9f09facb2a6c4a7096810d327c8b551c",
            "value": "100%"
          }
        },
        "473371611126476c88d5d42ec7031ed6": {
          "model_module": "@jupyter-widgets/controls",
          "model_module_version": "1.5.0",
          "model_name": "DescriptionStyleModel",
          "state": {
            "_model_module": "@jupyter-widgets/controls",
            "_model_module_version": "1.5.0",
            "_model_name": "DescriptionStyleModel",
            "_view_count": null,
            "_view_module": "@jupyter-widgets/base",
            "_view_module_version": "1.2.0",
            "_view_name": "StyleView",
            "description_width": ""
          }
        },
        "5296d28be75740b2892ae421bbec3657": {
          "model_module": "@jupyter-widgets/controls",
          "model_module_version": "1.5.0",
          "model_name": "HTMLModel",
          "state": {
            "_dom_classes": [],
            "_model_module": "@jupyter-widgets/controls",
            "_model_module_version": "1.5.0",
            "_model_name": "HTMLModel",
            "_view_count": null,
            "_view_module": "@jupyter-widgets/controls",
            "_view_module_version": "1.5.0",
            "_view_name": "HTMLView",
            "description": "",
            "description_tooltip": null,
            "layout": "IPY_MODEL_65efdfd0d26c46e79c8c5ff3b77126cc",
            "placeholder": "​",
            "style": "IPY_MODEL_473371611126476c88d5d42ec7031ed6",
            "value": " 780M/780M [00:11&lt;00:00, 91.9MB/s]"
          }
        },
        "65efdfd0d26c46e79c8c5ff3b77126cc": {
          "model_module": "@jupyter-widgets/base",
          "model_module_version": "1.2.0",
          "model_name": "LayoutModel",
          "state": {
            "_model_module": "@jupyter-widgets/base",
            "_model_module_version": "1.2.0",
            "_model_name": "LayoutModel",
            "_view_count": null,
            "_view_module": "@jupyter-widgets/base",
            "_view_module_version": "1.2.0",
            "_view_name": "LayoutView",
            "align_content": null,
            "align_items": null,
            "align_self": null,
            "border": null,
            "bottom": null,
            "display": null,
            "flex": null,
            "flex_flow": null,
            "grid_area": null,
            "grid_auto_columns": null,
            "grid_auto_flow": null,
            "grid_auto_rows": null,
            "grid_column": null,
            "grid_gap": null,
            "grid_row": null,
            "grid_template_areas": null,
            "grid_template_columns": null,
            "grid_template_rows": null,
            "height": null,
            "justify_content": null,
            "justify_items": null,
            "left": null,
            "margin": null,
            "max_height": null,
            "max_width": null,
            "min_height": null,
            "min_width": null,
            "object_fit": null,
            "object_position": null,
            "order": null,
            "overflow": null,
            "overflow_x": null,
            "overflow_y": null,
            "padding": null,
            "right": null,
            "top": null,
            "visibility": null,
            "width": null
          }
        },
        "769ecde6f2e64bacb596ce972f8d3d2d": {
          "model_module": "@jupyter-widgets/base",
          "model_module_version": "1.2.0",
          "model_name": "LayoutModel",
          "state": {
            "_model_module": "@jupyter-widgets/base",
            "_model_module_version": "1.2.0",
            "_model_name": "LayoutModel",
            "_view_count": null,
            "_view_module": "@jupyter-widgets/base",
            "_view_module_version": "1.2.0",
            "_view_name": "LayoutView",
            "align_content": null,
            "align_items": null,
            "align_self": null,
            "border": null,
            "bottom": null,
            "display": null,
            "flex": null,
            "flex_flow": null,
            "grid_area": null,
            "grid_auto_columns": null,
            "grid_auto_flow": null,
            "grid_auto_rows": null,
            "grid_column": null,
            "grid_gap": null,
            "grid_row": null,
            "grid_template_areas": null,
            "grid_template_columns": null,
            "grid_template_rows": null,
            "height": null,
            "justify_content": null,
            "justify_items": null,
            "left": null,
            "margin": null,
            "max_height": null,
            "max_width": null,
            "min_height": null,
            "min_width": null,
            "object_fit": null,
            "object_position": null,
            "order": null,
            "overflow": null,
            "overflow_x": null,
            "overflow_y": null,
            "padding": null,
            "right": null,
            "top": null,
            "visibility": null,
            "width": null
          }
        },
        "9f09facb2a6c4a7096810d327c8b551c": {
          "model_module": "@jupyter-widgets/controls",
          "model_module_version": "1.5.0",
          "model_name": "DescriptionStyleModel",
          "state": {
            "_model_module": "@jupyter-widgets/controls",
            "_model_module_version": "1.5.0",
            "_model_name": "DescriptionStyleModel",
            "_view_count": null,
            "_view_module": "@jupyter-widgets/base",
            "_view_module_version": "1.2.0",
            "_view_name": "StyleView",
            "description_width": ""
          }
        },
        "c4c4593c10904cb5b8a5724d60c7e181": {
          "model_module": "@jupyter-widgets/base",
          "model_module_version": "1.2.0",
          "model_name": "LayoutModel",
          "state": {
            "_model_module": "@jupyter-widgets/base",
            "_model_module_version": "1.2.0",
            "_model_name": "LayoutModel",
            "_view_count": null,
            "_view_module": "@jupyter-widgets/base",
            "_view_module_version": "1.2.0",
            "_view_name": "LayoutView",
            "align_content": null,
            "align_items": null,
            "align_self": null,
            "border": null,
            "bottom": null,
            "display": null,
            "flex": null,
            "flex_flow": null,
            "grid_area": null,
            "grid_auto_columns": null,
            "grid_auto_flow": null,
            "grid_auto_rows": null,
            "grid_column": null,
            "grid_gap": null,
            "grid_row": null,
            "grid_template_areas": null,
            "grid_template_columns": null,
            "grid_template_rows": null,
            "height": null,
            "justify_content": null,
            "justify_items": null,
            "left": null,
            "margin": null,
            "max_height": null,
            "max_width": null,
            "min_height": null,
            "min_width": null,
            "object_fit": null,
            "object_position": null,
            "order": null,
            "overflow": null,
            "overflow_x": null,
            "overflow_y": null,
            "padding": null,
            "right": null,
            "top": null,
            "visibility": null,
            "width": null
          }
        },
        "dded0aeae74440f7ba2ffa0beb8dd612": {
          "model_module": "@jupyter-widgets/controls",
          "model_module_version": "1.5.0",
          "model_name": "FloatProgressModel",
          "state": {
            "_dom_classes": [],
            "_model_module": "@jupyter-widgets/controls",
            "_model_module_version": "1.5.0",
            "_model_name": "FloatProgressModel",
            "_view_count": null,
            "_view_module": "@jupyter-widgets/controls",
            "_view_module_version": "1.5.0",
            "_view_name": "ProgressView",
            "bar_style": "success",
            "description": "",
            "description_tooltip": null,
            "layout": "IPY_MODEL_c4c4593c10904cb5b8a5724d60c7e181",
            "max": 818322941,
            "min": 0,
            "orientation": "horizontal",
            "style": "IPY_MODEL_0ce7164fc0c74bb9a2b5c7037375a727",
            "value": 818322941
          }
        },
        "eb95db7cae194218b3fcefb439b6352f": {
          "model_module": "@jupyter-widgets/controls",
          "model_module_version": "1.5.0",
          "model_name": "HBoxModel",
          "state": {
            "_dom_classes": [],
            "_model_module": "@jupyter-widgets/controls",
            "_model_module_version": "1.5.0",
            "_model_name": "HBoxModel",
            "_view_count": null,
            "_view_module": "@jupyter-widgets/controls",
            "_view_module_version": "1.5.0",
            "_view_name": "HBoxView",
            "box_style": "",
            "children": [
              "IPY_MODEL_384a001876054c93b0af45cd1e960bfe",
              "IPY_MODEL_dded0aeae74440f7ba2ffa0beb8dd612",
              "IPY_MODEL_5296d28be75740b2892ae421bbec3657"
            ],
            "layout": "IPY_MODEL_769ecde6f2e64bacb596ce972f8d3d2d"
          }
        }
      }
    }
  },
  "nbformat": 4,
  "nbformat_minor": 0
}
